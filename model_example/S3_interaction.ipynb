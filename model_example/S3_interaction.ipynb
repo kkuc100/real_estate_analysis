{
 "cells": [
  {
   "cell_type": "code",
   "execution_count": 1,
   "id": "cb382366-af82-4768-b726-ea6f5d3cac33",
   "metadata": {},
   "outputs": [
    {
     "name": "stdout",
     "output_type": "stream",
     "text": [
      "Objects in bucket:\n",
      "train.csv\n",
      "validation.csv\n",
      "xgboost-output/sagemaker-xgboost-2024-10-24-05-03-59-641/debug-output/training_job_end.ts\n",
      "xgboost-output/sagemaker-xgboost-2024-10-24-05-03-59-641/profiler-output/framework/training_job_end.ts\n",
      "xgboost-output/sagemaker-xgboost-2024-10-24-05-03-59-641/profiler-output/system/incremental/2024102405/1729746240.algo-1.json\n",
      "xgboost-output/sagemaker-xgboost-2024-10-24-05-03-59-641/profiler-output/system/incremental/2024102405/1729746300.algo-1.json\n",
      "xgboost-output/sagemaker-xgboost-2024-10-24-05-03-59-641/profiler-output/system/incremental/2024102405/1729746360.algo-1.json\n",
      "xgboost-output/sagemaker-xgboost-2024-10-24-05-03-59-641/profiler-output/system/training_job_end.ts\n",
      "xgboost-output/sagemaker-xgboost-2024-10-24-05-13-10-310/debug-output/training_job_end.ts\n",
      "xgboost-output/sagemaker-xgboost-2024-10-24-05-13-10-310/profiler-output/framework/training_job_end.ts\n",
      "xgboost-output/sagemaker-xgboost-2024-10-24-05-13-10-310/profiler-output/system/incremental/2024102405/1729746780.algo-1.json\n",
      "xgboost-output/sagemaker-xgboost-2024-10-24-05-13-10-310/profiler-output/system/incremental/2024102405/1729746840.algo-1.json\n",
      "xgboost-output/sagemaker-xgboost-2024-10-24-05-13-10-310/profiler-output/system/incremental/2024102405/1729746900.algo-1.json\n",
      "xgboost-output/sagemaker-xgboost-2024-10-24-05-13-10-310/profiler-output/system/training_job_end.ts\n",
      "xgboost-output/sagemaker-xgboost-2024-10-24-05-19-43-844/debug-output/training_job_end.ts\n",
      "xgboost-output/sagemaker-xgboost-2024-10-24-05-19-43-844/profiler-output/framework/training_job_end.ts\n",
      "xgboost-output/sagemaker-xgboost-2024-10-24-05-19-43-844/profiler-output/system/incremental/2024102405/1729747200.algo-1.json\n",
      "xgboost-output/sagemaker-xgboost-2024-10-24-05-19-43-844/profiler-output/system/incremental/2024102405/1729747260.algo-1.json\n",
      "xgboost-output/sagemaker-xgboost-2024-10-24-05-19-43-844/profiler-output/system/training_job_end.ts\n",
      "xgboost-output/sagemaker-xgboost-2024-10-24-05-23-00-416/debug-output/training_job_end.ts\n",
      "xgboost-output/sagemaker-xgboost-2024-10-24-05-23-00-416/profiler-output/framework/training_job_end.ts\n",
      "xgboost-output/sagemaker-xgboost-2024-10-24-05-23-00-416/profiler-output/system/incremental/2024102405/1729747380.algo-1.json\n",
      "xgboost-output/sagemaker-xgboost-2024-10-24-05-23-00-416/profiler-output/system/incremental/2024102405/1729747440.algo-1.json\n",
      "xgboost-output/sagemaker-xgboost-2024-10-24-05-23-00-416/profiler-output/system/incremental/2024102405/1729747500.algo-1.json\n",
      "xgboost-output/sagemaker-xgboost-2024-10-24-05-23-00-416/profiler-output/system/training_job_end.ts\n",
      "xgboost-output/sagemaker-xgboost-2024-10-24-05-27-30-982/debug-output/training_job_end.ts\n",
      "xgboost-output/sagemaker-xgboost-2024-10-24-05-27-30-982/profiler-output/framework/training_job_end.ts\n",
      "xgboost-output/sagemaker-xgboost-2024-10-24-05-27-30-982/profiler-output/system/incremental/2024102405/1729747680.algo-1.json\n",
      "xgboost-output/sagemaker-xgboost-2024-10-24-05-27-30-982/profiler-output/system/incremental/2024102405/1729747740.algo-1.json\n",
      "xgboost-output/sagemaker-xgboost-2024-10-24-05-27-30-982/profiler-output/system/training_job_end.ts\n",
      "xgboost-output/sagemaker-xgboost-2024-10-24-05-33-29-433/debug-output/training_job_end.ts\n",
      "xgboost-output/sagemaker-xgboost-2024-10-24-05-33-29-433/profiler-output/framework/training_job_end.ts\n",
      "xgboost-output/sagemaker-xgboost-2024-10-24-05-33-29-433/profiler-output/system/incremental/2024102405/1729748040.algo-1.json\n",
      "xgboost-output/sagemaker-xgboost-2024-10-24-05-33-29-433/profiler-output/system/incremental/2024102405/1729748100.algo-1.json\n",
      "xgboost-output/sagemaker-xgboost-2024-10-24-05-33-29-433/profiler-output/system/training_job_end.ts\n",
      "xgboost-output/sagemaker-xgboost-2024-10-24-05-36-42-147/debug-output/training_job_end.ts\n",
      "xgboost-output/sagemaker-xgboost-2024-10-24-05-36-42-147/profiler-output/framework/training_job_end.ts\n",
      "xgboost-output/sagemaker-xgboost-2024-10-24-05-36-42-147/profiler-output/system/incremental/2024102405/1729748220.algo-1.json\n",
      "xgboost-output/sagemaker-xgboost-2024-10-24-05-36-42-147/profiler-output/system/incremental/2024102405/1729748280.algo-1.json\n",
      "xgboost-output/sagemaker-xgboost-2024-10-24-05-36-42-147/profiler-output/system/incremental/2024102405/1729748340.algo-1.json\n",
      "xgboost-output/sagemaker-xgboost-2024-10-24-05-36-42-147/profiler-output/system/training_job_end.ts\n",
      "xgboost-output/sagemaker-xgboost-2024-10-24-05-49-14-840/debug-output/training_job_end.ts\n",
      "xgboost-output/sagemaker-xgboost-2024-10-24-05-49-14-840/profiler-output/framework/training_job_end.ts\n",
      "xgboost-output/sagemaker-xgboost-2024-10-24-05-49-14-840/profiler-output/system/incremental/2024102405/1729748940.algo-1.json\n",
      "xgboost-output/sagemaker-xgboost-2024-10-24-05-49-14-840/profiler-output/system/incremental/2024102405/1729749000.algo-1.json\n",
      "xgboost-output/sagemaker-xgboost-2024-10-24-05-49-14-840/profiler-output/system/incremental/2024102405/1729749060.algo-1.json\n",
      "xgboost-output/sagemaker-xgboost-2024-10-24-05-49-14-840/profiler-output/system/training_job_end.ts\n",
      "xgboost-output/sagemaker-xgboost-2024-10-25-01-56-10-120/debug-output/training_job_end.ts\n",
      "xgboost-output/sagemaker-xgboost-2024-10-25-01-56-10-120/profiler-output/framework/training_job_end.ts\n",
      "xgboost-output/sagemaker-xgboost-2024-10-25-01-56-10-120/profiler-output/system/incremental/2024102501/1729821360.algo-1.json\n",
      "xgboost-output/sagemaker-xgboost-2024-10-25-01-56-10-120/profiler-output/system/incremental/2024102501/1729821420.algo-1.json\n",
      "xgboost-output/sagemaker-xgboost-2024-10-25-01-56-10-120/profiler-output/system/incremental/2024102501/1729821480.algo-1.json\n",
      "xgboost-output/sagemaker-xgboost-2024-10-25-01-56-10-120/profiler-output/system/training_job_end.ts\n"
     ]
    }
   ],
   "source": [
    "# Step 1: Import the necessary libraries\n",
    "import boto3\n",
    "\n",
    "# Step 2: Create an S3 client\n",
    "s3_client = boto3.client('s3')\n",
    "\n",
    "# Step 3: Define your S3 bucket name\n",
    "bucket_name = 'sagemaker-us-east-1-025066244931'  # Replace with your S3 bucket name\n",
    "\n",
    "# Step 4: List objects in your S3 bucket\n",
    "def list_objects_in_bucket(bucket_name):\n",
    "    try:\n",
    "        response = s3_client.list_objects_v2(Bucket=bucket_name)\n",
    "        print(\"Objects in bucket:\")\n",
    "        for obj in response.get('Contents', []):\n",
    "            print(obj['Key'])\n",
    "    except Exception as e:\n",
    "        print(f\"Error listing objects in bucket: {e}\")\n",
    "\n",
    "# Call the function to list objects\n",
    "list_objects_in_bucket(bucket_name)\n",
    "\n"
   ]
  },
  {
   "cell_type": "code",
   "execution_count": 11,
   "id": "f64ccb4d-4e1d-4102-8dc4-eb402cc3abba",
   "metadata": {},
   "outputs": [
    {
     "name": "stdout",
     "output_type": "stream",
     "text": [
      "Successfully uploaded xgboost_model.tar.gz to sagemaker-us-east-1-025066244931/xgboost_model.tar.gz\n"
     ]
    }
   ],
   "source": [
    "# Step 5: Upload a file to your S3 bucket\n",
    "def upload_file_to_s3(local_file, s3_file):\n",
    "    try:\n",
    "        s3_client.upload_file(local_file, bucket_name, s3_file)\n",
    "        print(f\"Successfully uploaded {local_file} to {bucket_name}/{s3_file}\")\n",
    "    except Exception as e:\n",
    "        print(f\"Error uploading file: {e}\")\n",
    "\n",
    "# Example: Upload a local file\n",
    "local_file = 'xgboost_model.tar.gz'  # Replace with the path to your local file\n",
    "s3_file = 'xgboost_model.tar.gz'  # Replace with the desired name in S3\n",
    "upload_file_to_s3(local_file, s3_file)"
   ]
  },
  {
   "cell_type": "code",
   "execution_count": 12,
   "id": "b1d32d42-f0b7-4bbb-96dd-7cb2cda921d8",
   "metadata": {},
   "outputs": [
    {
     "name": "stdout",
     "output_type": "stream",
     "text": [
      "Successfully downloaded xgboost_model.tar.gz from sagemaker-us-east-1-025066244931 to xgboost_model_new.tar.gz\n"
     ]
    }
   ],
   "source": [
    "# Step 6: Download a file from your S3 bucket\n",
    "def download_file_from_s3(s3_file, local_file):\n",
    "    try:\n",
    "        s3_client.download_file(bucket_name, s3_file, local_file)\n",
    "        print(f\"Successfully downloaded {s3_file} from {bucket_name} to {local_file}\")\n",
    "    except Exception as e:\n",
    "        print(f\"Error downloading file: {e}\")\n",
    "\n",
    "# Example: Download a file from S3\n",
    "s3_file_to_download = 'xgboost_model.tar.gz'  # Replace with the name of your file in S3\n",
    "local_file_to_save = 'xgboost_model_new.tar.gz'  # Replace with the desired local file name\n",
    "download_file_from_s3(s3_file_to_download, local_file_to_save)\n"
   ]
  }
 ],
 "metadata": {
  "kernelspec": {
   "display_name": "Python 3 (ipykernel)",
   "language": "python",
   "name": "python3"
  },
  "language_info": {
   "codemirror_mode": {
    "name": "ipython",
    "version": 3
   },
   "file_extension": ".py",
   "mimetype": "text/x-python",
   "name": "python",
   "nbconvert_exporter": "python",
   "pygments_lexer": "ipython3",
   "version": "3.11.9"
  }
 },
 "nbformat": 4,
 "nbformat_minor": 5
}
