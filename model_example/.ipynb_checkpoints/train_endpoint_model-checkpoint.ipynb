{
 "cells": [
  {
   "cell_type": "code",
   "execution_count": 40,
   "id": "70e77e29-4cd6-47f3-bc23-3758abfb8ee7",
   "metadata": {},
   "outputs": [
    {
     "name": "stdout",
     "output_type": "stream",
     "text": [
      "Requirement already satisfied: boto3 in /opt/conda/lib/python3.11/site-packages (1.35.48)\n",
      "Requirement already satisfied: sagemaker in /opt/conda/lib/python3.11/site-packages (2.227.0)\n",
      "Requirement already satisfied: botocore<1.36.0,>=1.35.48 in /opt/conda/lib/python3.11/site-packages (from boto3) (1.35.48)\n",
      "Requirement already satisfied: jmespath<2.0.0,>=0.7.1 in /opt/conda/lib/python3.11/site-packages (from boto3) (1.0.1)\n",
      "Requirement already satisfied: s3transfer<0.11.0,>=0.10.0 in /opt/conda/lib/python3.11/site-packages (from boto3) (0.10.2)\n",
      "Requirement already satisfied: attrs<24,>=23.1.0 in /opt/conda/lib/python3.11/site-packages (from sagemaker) (23.2.0)\n",
      "Requirement already satisfied: cloudpickle==2.2.1 in /opt/conda/lib/python3.11/site-packages (from sagemaker) (2.2.1)\n",
      "Requirement already satisfied: google-pasta in /opt/conda/lib/python3.11/site-packages (from sagemaker) (0.2.0)\n",
      "Requirement already satisfied: numpy<2.0,>=1.9.0 in /opt/conda/lib/python3.11/site-packages (from sagemaker) (1.26.4)\n",
      "Requirement already satisfied: protobuf<5.0,>=3.12 in /opt/conda/lib/python3.11/site-packages (from sagemaker) (4.25.3)\n",
      "Requirement already satisfied: smdebug-rulesconfig==1.0.1 in /opt/conda/lib/python3.11/site-packages (from sagemaker) (1.0.1)\n",
      "Requirement already satisfied: importlib-metadata<7.0,>=1.4.0 in /opt/conda/lib/python3.11/site-packages (from sagemaker) (6.10.0)\n",
      "Requirement already satisfied: packaging>=20.0 in /opt/conda/lib/python3.11/site-packages (from sagemaker) (24.1)\n",
      "Requirement already satisfied: pandas in /opt/conda/lib/python3.11/site-packages (from sagemaker) (2.2.2)\n",
      "Requirement already satisfied: pathos in /opt/conda/lib/python3.11/site-packages (from sagemaker) (0.3.2)\n",
      "Requirement already satisfied: schema in /opt/conda/lib/python3.11/site-packages (from sagemaker) (0.7.7)\n",
      "Requirement already satisfied: PyYAML~=6.0 in /opt/conda/lib/python3.11/site-packages (from sagemaker) (6.0.2)\n",
      "Requirement already satisfied: jsonschema in /opt/conda/lib/python3.11/site-packages (from sagemaker) (4.21.1)\n",
      "Requirement already satisfied: platformdirs in /opt/conda/lib/python3.11/site-packages (from sagemaker) (3.11.0)\n",
      "Requirement already satisfied: tblib<4,>=1.7.0 in /opt/conda/lib/python3.11/site-packages (from sagemaker) (2.0.0)\n",
      "Requirement already satisfied: urllib3<3.0.0,>=1.26.8 in /opt/conda/lib/python3.11/site-packages (from sagemaker) (1.26.19)\n",
      "Requirement already satisfied: requests in /opt/conda/lib/python3.11/site-packages (from sagemaker) (2.32.3)\n",
      "Requirement already satisfied: docker in /opt/conda/lib/python3.11/site-packages (from sagemaker) (7.1.0)\n",
      "Requirement already satisfied: tqdm in /opt/conda/lib/python3.11/site-packages (from sagemaker) (4.66.5)\n",
      "Requirement already satisfied: psutil in /opt/conda/lib/python3.11/site-packages (from sagemaker) (5.9.8)\n",
      "Requirement already satisfied: python-dateutil<3.0.0,>=2.1 in /opt/conda/lib/python3.11/site-packages (from botocore<1.36.0,>=1.35.48->boto3) (2.9.0)\n",
      "Requirement already satisfied: zipp>=0.5 in /opt/conda/lib/python3.11/site-packages (from importlib-metadata<7.0,>=1.4.0->sagemaker) (3.20.0)\n",
      "Requirement already satisfied: charset-normalizer<4,>=2 in /opt/conda/lib/python3.11/site-packages (from requests->sagemaker) (3.3.2)\n",
      "Requirement already satisfied: idna<4,>=2.5 in /opt/conda/lib/python3.11/site-packages (from requests->sagemaker) (3.7)\n",
      "Requirement already satisfied: certifi>=2017.4.17 in /opt/conda/lib/python3.11/site-packages (from requests->sagemaker) (2024.7.4)\n",
      "Requirement already satisfied: six in /opt/conda/lib/python3.11/site-packages (from google-pasta->sagemaker) (1.16.0)\n",
      "Requirement already satisfied: jsonschema-specifications>=2023.03.6 in /opt/conda/lib/python3.11/site-packages (from jsonschema->sagemaker) (2023.12.1)\n",
      "Requirement already satisfied: referencing>=0.28.4 in /opt/conda/lib/python3.11/site-packages (from jsonschema->sagemaker) (0.35.1)\n",
      "Requirement already satisfied: rpds-py>=0.7.1 in /opt/conda/lib/python3.11/site-packages (from jsonschema->sagemaker) (0.20.0)\n",
      "Requirement already satisfied: pytz>=2020.1 in /opt/conda/lib/python3.11/site-packages (from pandas->sagemaker) (2023.3)\n",
      "Requirement already satisfied: tzdata>=2022.7 in /opt/conda/lib/python3.11/site-packages (from pandas->sagemaker) (2024.1)\n",
      "Requirement already satisfied: ppft>=1.7.6.8 in /opt/conda/lib/python3.11/site-packages (from pathos->sagemaker) (1.7.6.8)\n",
      "Requirement already satisfied: dill>=0.3.8 in /opt/conda/lib/python3.11/site-packages (from pathos->sagemaker) (0.3.8)\n",
      "Requirement already satisfied: pox>=0.3.4 in /opt/conda/lib/python3.11/site-packages (from pathos->sagemaker) (0.3.4)\n",
      "Requirement already satisfied: multiprocess>=0.70.16 in /opt/conda/lib/python3.11/site-packages (from pathos->sagemaker) (0.70.16)\n"
     ]
    }
   ],
   "source": [
    "!pip install boto3 sagemaker"
   ]
  },
  {
   "cell_type": "code",
   "execution_count": 41,
   "id": "1afe9aba-8a21-4b80-986c-b257b6be618b",
   "metadata": {},
   "outputs": [],
   "source": [
    "from datasets import load_dataset, DatasetDict, Dataset\n",
    "from sklearn.model_selection import train_test_split\n",
    "import pandas as pd\n",
    "import sagemaker\n",
    "import boto3\n",
    "from sagemaker.huggingface import HuggingFace\n",
    "import yaml\n",
    "from sagemaker.amazon.amazon_estimator import get_image_uri\n",
    "from sagemaker import Session\n",
    "import json\n",
    "from sagemaker.predictor import Predictor\n",
    "from sagemaker.serializers import CSVSerializer\n",
    "from sagemaker.xgboost.model import XGBoostModel\n",
    "from sagemaker.inputs import TrainingInput"
   ]
  },
  {
   "cell_type": "code",
   "execution_count": 42,
   "id": "d66ecc97-c5f4-49a0-b450-5f5e81282617",
   "metadata": {},
   "outputs": [
    {
     "name": "stdout",
     "output_type": "stream",
     "text": [
      "Successfully downloaded validation.csv from sagemaker-us-east-1-025066244931 to validation.csv\n"
     ]
    }
   ],
   "source": [
    "# Step 6: Download a file from your S3 bucket\n",
    "s3_client = boto3.client('s3')\n",
    "\n",
    "# Step 3: Define your S3 bucket name\n",
    "bucket_name = 'sagemaker-us-east-1-025066244931'\n",
    "def download_file_from_s3(s3_file, local_file):\n",
    "    try:\n",
    "        s3_client.download_file(bucket_name, s3_file, local_file)\n",
    "        print(f\"Successfully downloaded {s3_file} from {bucket_name} to {local_file}\")\n",
    "    except Exception as e:\n",
    "        print(f\"Error downloading file: {e}\")\n",
    "\n",
    "# Example: Download a file from S3\n",
    "s3_file_to_download = 'validation.csv'  # Replace with the name of your file in S3\n",
    "local_file_to_save = 'validation.csv'  # Replace with the desired local file name\n",
    "download_file_from_s3(s3_file_to_download, local_file_to_save)"
   ]
  },
  {
   "cell_type": "code",
   "execution_count": 43,
   "id": "780bd907-43f3-4de7-becc-802af599890e",
   "metadata": {},
   "outputs": [
    {
     "name": "stdout",
     "output_type": "stream",
     "text": [
      "Successfully downloaded train.csv from sagemaker-us-east-1-025066244931 to train.csv\n"
     ]
    }
   ],
   "source": [
    "s3_file_to_download = 'train.csv'  # Replace with the name of your file in S3\n",
    "local_file_to_save = 'train.csv'  # Replace with the desired local file name\n",
    "download_file_from_s3(s3_file_to_download, local_file_to_save)"
   ]
  },
  {
   "cell_type": "code",
   "execution_count": 45,
   "id": "047570a7-0b22-4f6e-85e2-d5b6ddaa8510",
   "metadata": {},
   "outputs": [
    {
     "data": {
      "text/plain": [
       "risklevel\n",
       "8    92\n",
       "7    90\n",
       "4    90\n",
       "1    85\n",
       "2    84\n",
       "0    81\n",
       "9    79\n",
       "6    71\n",
       "3    64\n",
       "5    64\n",
       "Name: count, dtype: int64"
      ]
     },
     "execution_count": 45,
     "metadata": {},
     "output_type": "execute_result"
    }
   ],
   "source": [
    "data_path = \"./train.csv\"\n",
    "df_1 = pd.read_csv(data_path)\n",
    "df_1['risklevel'].value_counts()"
   ]
  },
  {
   "cell_type": "code",
   "execution_count": 46,
   "id": "9ef4165f-45b2-4cac-87c4-a1796dcc8b10",
   "metadata": {},
   "outputs": [
    {
     "data": {
      "text/plain": [
       "risklevel\n",
       "4    30\n",
       "5    23\n",
       "6    22\n",
       "3    21\n",
       "0    21\n",
       "7    21\n",
       "2    18\n",
       "1    18\n",
       "8    13\n",
       "9    13\n",
       "Name: count, dtype: int64"
      ]
     },
     "execution_count": 46,
     "metadata": {},
     "output_type": "execute_result"
    }
   ],
   "source": [
    "data_path = \"./validation.csv\"\n",
    "df_1 = pd.read_csv(data_path)\n",
    "df_1['risklevel'].value_counts()"
   ]
  },
  {
   "cell_type": "code",
   "execution_count": 59,
   "id": "daad7049-6de7-4499-bc8e-8f3658c711ff",
   "metadata": {},
   "outputs": [],
   "source": [
    "data_path = \"../Data/clean_test_model_data.csv\"\n",
    "df = pd.read_csv(data_path, header=None)\n",
    "df = df.iloc[1:,:]"
   ]
  },
  {
   "cell_type": "code",
   "execution_count": 60,
   "id": "3299a0bd-4e8c-4c99-a135-c56991157a41",
   "metadata": {},
   "outputs": [
    {
     "data": {
      "text/html": [
       "<div>\n",
       "<style scoped>\n",
       "    .dataframe tbody tr th:only-of-type {\n",
       "        vertical-align: middle;\n",
       "    }\n",
       "\n",
       "    .dataframe tbody tr th {\n",
       "        vertical-align: top;\n",
       "    }\n",
       "\n",
       "    .dataframe thead th {\n",
       "        text-align: right;\n",
       "    }\n",
       "</style>\n",
       "<table border=\"1\" class=\"dataframe\">\n",
       "  <thead>\n",
       "    <tr style=\"text-align: right;\">\n",
       "      <th></th>\n",
       "      <th>0</th>\n",
       "      <th>1</th>\n",
       "      <th>2</th>\n",
       "    </tr>\n",
       "  </thead>\n",
       "  <tbody>\n",
       "    <tr>\n",
       "      <th>1</th>\n",
       "      <td>22306.0</td>\n",
       "      <td>677220.0</td>\n",
       "      <td>2</td>\n",
       "    </tr>\n",
       "    <tr>\n",
       "      <th>2</th>\n",
       "      <td>36376.0</td>\n",
       "      <td>73000.0</td>\n",
       "      <td>9</td>\n",
       "    </tr>\n",
       "    <tr>\n",
       "      <th>3</th>\n",
       "      <td>97304.0</td>\n",
       "      <td>389825.0</td>\n",
       "      <td>9</td>\n",
       "    </tr>\n",
       "    <tr>\n",
       "      <th>4</th>\n",
       "      <td>48419.0</td>\n",
       "      <td>146225.0</td>\n",
       "      <td>2</td>\n",
       "    </tr>\n",
       "    <tr>\n",
       "      <th>5</th>\n",
       "      <td>26362.0</td>\n",
       "      <td>268250.0</td>\n",
       "      <td>4</td>\n",
       "    </tr>\n",
       "    <tr>\n",
       "      <th>...</th>\n",
       "      <td>...</td>\n",
       "      <td>...</td>\n",
       "      <td>...</td>\n",
       "    </tr>\n",
       "    <tr>\n",
       "      <th>996</th>\n",
       "      <td>63124.0</td>\n",
       "      <td>996175.0</td>\n",
       "      <td>2</td>\n",
       "    </tr>\n",
       "    <tr>\n",
       "      <th>997</th>\n",
       "      <td>44049.0</td>\n",
       "      <td>187450.0</td>\n",
       "      <td>5</td>\n",
       "    </tr>\n",
       "    <tr>\n",
       "      <th>998</th>\n",
       "      <td>85248.0</td>\n",
       "      <td>445700.0</td>\n",
       "      <td>1</td>\n",
       "    </tr>\n",
       "    <tr>\n",
       "      <th>999</th>\n",
       "      <td>79381.0</td>\n",
       "      <td>416950.0</td>\n",
       "      <td>8</td>\n",
       "    </tr>\n",
       "    <tr>\n",
       "      <th>1000</th>\n",
       "      <td>92344.0</td>\n",
       "      <td>519900.0</td>\n",
       "      <td>0</td>\n",
       "    </tr>\n",
       "  </tbody>\n",
       "</table>\n",
       "<p>1000 rows × 3 columns</p>\n",
       "</div>"
      ],
      "text/plain": [
       "            0         1  2\n",
       "1     22306.0  677220.0  2\n",
       "2     36376.0   73000.0  9\n",
       "3     97304.0  389825.0  9\n",
       "4     48419.0  146225.0  2\n",
       "5     26362.0  268250.0  4\n",
       "...       ...       ... ..\n",
       "996   63124.0  996175.0  2\n",
       "997   44049.0  187450.0  5\n",
       "998   85248.0  445700.0  1\n",
       "999   79381.0  416950.0  8\n",
       "1000  92344.0  519900.0  0\n",
       "\n",
       "[1000 rows x 3 columns]"
      ]
     },
     "execution_count": 60,
     "metadata": {},
     "output_type": "execute_result"
    }
   ],
   "source": [
    "df"
   ]
  },
  {
   "cell_type": "code",
   "execution_count": 54,
   "id": "0d7d58cc-7f52-451c-9942-195892d8199c",
   "metadata": {},
   "outputs": [
    {
     "data": {
      "text/plain": [
       "risklevel\n",
       "4    120\n",
       "7    111\n",
       "8    105\n",
       "1    103\n",
       "0    102\n",
       "2    102\n",
       "6     93\n",
       "9     92\n",
       "5     87\n",
       "3     85\n",
       "Name: count, dtype: int64"
      ]
     },
     "execution_count": 54,
     "metadata": {},
     "output_type": "execute_result"
    }
   ],
   "source": [
    "df['risklevel'].value_counts()"
   ]
  },
  {
   "cell_type": "code",
   "execution_count": 55,
   "id": "a89b9aa2-520f-47dc-8ec6-58eafdb104a5",
   "metadata": {},
   "outputs": [
    {
     "name": "stdout",
     "output_type": "stream",
     "text": [
      "zipcode      0\n",
      "price        0\n",
      "risklevel    0\n",
      "dtype: int64\n"
     ]
    }
   ],
   "source": [
    "print(df.isnull().sum())\n",
    "df['risklevel'] = df['risklevel'].astype('category')\n"
   ]
  },
  {
   "cell_type": "code",
   "execution_count": 56,
   "id": "2885b701-5927-4979-bd38-056d01498d01",
   "metadata": {},
   "outputs": [
    {
     "name": "stdout",
     "output_type": "stream",
     "text": [
      "category\n",
      "risklevel\n",
      "4    120\n",
      "7    111\n",
      "8    105\n",
      "1    103\n",
      "0    102\n",
      "2    102\n",
      "6     93\n",
      "9     92\n",
      "5     87\n",
      "3     85\n",
      "Name: count, dtype: int64\n"
     ]
    }
   ],
   "source": [
    "print(df['risklevel'].dtype)\n",
    "print(df['risklevel'].value_counts())"
   ]
  },
  {
   "cell_type": "code",
   "execution_count": 47,
   "id": "6025c679-9cf2-41c1-84f7-ab65a71d6167",
   "metadata": {},
   "outputs": [],
   "source": [
    "s3 = boto3.client('s3')\n",
    "bucket_name = 'sagemaker-us-east-1-025066244931'  # Replace with your S3 bucket name"
   ]
  },
  {
   "cell_type": "code",
   "execution_count": 67,
   "id": "7c9fb85c-db83-48de-bab6-caf9952c1933",
   "metadata": {},
   "outputs": [],
   "source": [
    "new_order = [df.columns[2]] + df.columns[:2].tolist() + df.columns[3:].tolist()\n",
    "df = df[new_order]"
   ]
  },
  {
   "cell_type": "code",
   "execution_count": 69,
   "id": "ab6c140c-9b09-4304-8e3c-b060ac686b58",
   "metadata": {},
   "outputs": [],
   "source": [
    "df.reset_index(drop=True, inplace=True)"
   ]
  },
  {
   "cell_type": "code",
   "execution_count": 78,
   "id": "5235b7e4-f2fa-44ab-9cb3-1dd4a5758155",
   "metadata": {},
   "outputs": [],
   "source": [
    "df.to_csv('./total_df.csv', index=False)"
   ]
  },
  {
   "cell_type": "code",
   "execution_count": 79,
   "id": "4ae0a13f-fca7-4348-ab4a-a5f73a3a46f0",
   "metadata": {},
   "outputs": [
    {
     "data": {
      "text/html": [
       "<div>\n",
       "<style scoped>\n",
       "    .dataframe tbody tr th:only-of-type {\n",
       "        vertical-align: middle;\n",
       "    }\n",
       "\n",
       "    .dataframe tbody tr th {\n",
       "        vertical-align: top;\n",
       "    }\n",
       "\n",
       "    .dataframe thead th {\n",
       "        text-align: right;\n",
       "    }\n",
       "</style>\n",
       "<table border=\"1\" class=\"dataframe\">\n",
       "  <thead>\n",
       "    <tr style=\"text-align: right;\">\n",
       "      <th></th>\n",
       "      <th>0</th>\n",
       "      <th>1</th>\n",
       "      <th>2</th>\n",
       "    </tr>\n",
       "  </thead>\n",
       "  <tbody>\n",
       "    <tr>\n",
       "      <th>0</th>\n",
       "      <td>2</td>\n",
       "      <td>48419.0</td>\n",
       "      <td>146225.0</td>\n",
       "    </tr>\n",
       "    <tr>\n",
       "      <th>1</th>\n",
       "      <td>4</td>\n",
       "      <td>26362.0</td>\n",
       "      <td>268250.0</td>\n",
       "    </tr>\n",
       "    <tr>\n",
       "      <th>2</th>\n",
       "      <td>4</td>\n",
       "      <td>49887.0</td>\n",
       "      <td>117400.0</td>\n",
       "    </tr>\n",
       "    <tr>\n",
       "      <th>3</th>\n",
       "      <td>0</td>\n",
       "      <td>79830.0</td>\n",
       "      <td>271875.0</td>\n",
       "    </tr>\n",
       "    <tr>\n",
       "      <th>4</th>\n",
       "      <td>5</td>\n",
       "      <td>39402.0</td>\n",
       "      <td>278975.0</td>\n",
       "    </tr>\n",
       "    <tr>\n",
       "      <th>...</th>\n",
       "      <td>...</td>\n",
       "      <td>...</td>\n",
       "      <td>...</td>\n",
       "    </tr>\n",
       "    <tr>\n",
       "      <th>992</th>\n",
       "      <td>2</td>\n",
       "      <td>63124.0</td>\n",
       "      <td>996175.0</td>\n",
       "    </tr>\n",
       "    <tr>\n",
       "      <th>993</th>\n",
       "      <td>5</td>\n",
       "      <td>44049.0</td>\n",
       "      <td>187450.0</td>\n",
       "    </tr>\n",
       "    <tr>\n",
       "      <th>994</th>\n",
       "      <td>1</td>\n",
       "      <td>85248.0</td>\n",
       "      <td>445700.0</td>\n",
       "    </tr>\n",
       "    <tr>\n",
       "      <th>995</th>\n",
       "      <td>8</td>\n",
       "      <td>79381.0</td>\n",
       "      <td>416950.0</td>\n",
       "    </tr>\n",
       "    <tr>\n",
       "      <th>996</th>\n",
       "      <td>0</td>\n",
       "      <td>92344.0</td>\n",
       "      <td>519900.0</td>\n",
       "    </tr>\n",
       "  </tbody>\n",
       "</table>\n",
       "<p>997 rows × 3 columns</p>\n",
       "</div>"
      ],
      "text/plain": [
       "     0        1         2\n",
       "0    2  48419.0  146225.0\n",
       "1    4  26362.0  268250.0\n",
       "2    4  49887.0  117400.0\n",
       "3    0  79830.0  271875.0\n",
       "4    5  39402.0  278975.0\n",
       "..  ..      ...       ...\n",
       "992  2  63124.0  996175.0\n",
       "993  5  44049.0  187450.0\n",
       "994  1  85248.0  445700.0\n",
       "995  8  79381.0  416950.0\n",
       "996  0  92344.0  519900.0\n",
       "\n",
       "[997 rows x 3 columns]"
      ]
     },
     "execution_count": 79,
     "metadata": {},
     "output_type": "execute_result"
    }
   ],
   "source": [
    "df_another_method = pd.read_csv('./total_df.csv', skiprows=1, header=None)\n",
    "df_another_method"
   ]
  },
  {
   "cell_type": "code",
   "execution_count": 82,
   "id": "19743f18-27c9-45eb-b500-e6e33523a355",
   "metadata": {},
   "outputs": [
    {
     "data": {
      "text/html": [
       "<div>\n",
       "<style scoped>\n",
       "    .dataframe tbody tr th:only-of-type {\n",
       "        vertical-align: middle;\n",
       "    }\n",
       "\n",
       "    .dataframe tbody tr th {\n",
       "        vertical-align: top;\n",
       "    }\n",
       "\n",
       "    .dataframe thead th {\n",
       "        text-align: right;\n",
       "    }\n",
       "</style>\n",
       "<table border=\"1\" class=\"dataframe\">\n",
       "  <thead>\n",
       "    <tr style=\"text-align: right;\">\n",
       "      <th></th>\n",
       "      <th>1</th>\n",
       "      <th>2</th>\n",
       "    </tr>\n",
       "  </thead>\n",
       "  <tbody>\n",
       "    <tr>\n",
       "      <th>0</th>\n",
       "      <td>48419.0</td>\n",
       "      <td>146225.0</td>\n",
       "    </tr>\n",
       "    <tr>\n",
       "      <th>1</th>\n",
       "      <td>26362.0</td>\n",
       "      <td>268250.0</td>\n",
       "    </tr>\n",
       "    <tr>\n",
       "      <th>2</th>\n",
       "      <td>49887.0</td>\n",
       "      <td>117400.0</td>\n",
       "    </tr>\n",
       "    <tr>\n",
       "      <th>3</th>\n",
       "      <td>79830.0</td>\n",
       "      <td>271875.0</td>\n",
       "    </tr>\n",
       "    <tr>\n",
       "      <th>4</th>\n",
       "      <td>39402.0</td>\n",
       "      <td>278975.0</td>\n",
       "    </tr>\n",
       "    <tr>\n",
       "      <th>...</th>\n",
       "      <td>...</td>\n",
       "      <td>...</td>\n",
       "    </tr>\n",
       "    <tr>\n",
       "      <th>992</th>\n",
       "      <td>63124.0</td>\n",
       "      <td>996175.0</td>\n",
       "    </tr>\n",
       "    <tr>\n",
       "      <th>993</th>\n",
       "      <td>44049.0</td>\n",
       "      <td>187450.0</td>\n",
       "    </tr>\n",
       "    <tr>\n",
       "      <th>994</th>\n",
       "      <td>85248.0</td>\n",
       "      <td>445700.0</td>\n",
       "    </tr>\n",
       "    <tr>\n",
       "      <th>995</th>\n",
       "      <td>79381.0</td>\n",
       "      <td>416950.0</td>\n",
       "    </tr>\n",
       "    <tr>\n",
       "      <th>996</th>\n",
       "      <td>92344.0</td>\n",
       "      <td>519900.0</td>\n",
       "    </tr>\n",
       "  </tbody>\n",
       "</table>\n",
       "<p>997 rows × 2 columns</p>\n",
       "</div>"
      ],
      "text/plain": [
       "           1         2\n",
       "0    48419.0  146225.0\n",
       "1    26362.0  268250.0\n",
       "2    49887.0  117400.0\n",
       "3    79830.0  271875.0\n",
       "4    39402.0  278975.0\n",
       "..       ...       ...\n",
       "992  63124.0  996175.0\n",
       "993  44049.0  187450.0\n",
       "994  85248.0  445700.0\n",
       "995  79381.0  416950.0\n",
       "996  92344.0  519900.0\n",
       "\n",
       "[997 rows x 2 columns]"
      ]
     },
     "execution_count": 82,
     "metadata": {},
     "output_type": "execute_result"
    }
   ],
   "source": [
    "df_another_method.iloc[:,1:]"
   ]
  },
  {
   "cell_type": "markdown",
   "id": "64c503dc-8a24-49d2-928f-0f66890d7f3e",
   "metadata": {},
   "source": [
    "## Training the model"
   ]
  },
  {
   "cell_type": "code",
   "execution_count": 84,
   "id": "afb8ab07-f203-4aee-b9a5-e4395a648598",
   "metadata": {},
   "outputs": [],
   "source": [
    "# Extract features and labels\n",
    "X = df_another_method.iloc[:,:1]\n",
    "y = df_another_method.iloc[:,1:]\n",
    "\n",
    "with open(\"./config.yaml\", \"r\") as config_file:\n",
    "    config = yaml.safe_load(config_file)\n",
    "\n",
    "# Split the data\n",
    "X_train, X_test, y_train, y_test = train_test_split(X, y, **config[\"train_test_split\"])\n",
    "\n",
    "# Save the train and test sets as CSV files\n",
    "train_data = pd.concat([X_train, y_train], axis=1)\n",
    "test_data = pd.concat([X_test, y_test], axis=1)\n",
    "\n",
    "train_data.to_csv('./internal_data/train.csv', index=False)\n",
    "test_data.to_csv('./internal_data/validation.csv', index=False)\n",
    "\n",
    "# Upload them to S3\n",
    "s3.upload_file('./internal_data/train.csv', bucket_name, 'train.csv')\n",
    "s3.upload_file('./internal_data/validation.csv', bucket_name, 'validation.csv')\n"
   ]
  },
  {
   "cell_type": "code",
   "execution_count": 85,
   "id": "605356bf-804b-49bc-a339-34cf600f0862",
   "metadata": {
    "scrolled": true
   },
   "outputs": [
    {
     "name": "stderr",
     "output_type": "stream",
     "text": [
      "INFO:sagemaker.image_uris:Ignoring unnecessary instance type: None.\n",
      "INFO:sagemaker:Creating training-job with name: sagemaker-xgboost-2024-10-25-03-39-12-308\n"
     ]
    },
    {
     "name": "stdout",
     "output_type": "stream",
     "text": [
      "2024-10-25 03:39:13 Starting - Starting the training job...\n",
      "2024-10-25 03:39:27 Starting - Preparing the instances for training...\n",
      "2024-10-25 03:40:06 Downloading - Downloading the training image...\n",
      "2024-10-25 03:40:46 Training - Training image download completed. Training in progress....\n",
      "2024-10-25 03:41:12 Uploading - Uploading generated training model\u001b[34m[2024-10-25 03:41:04.479 ip-10-0-81-47.ec2.internal:7 INFO utils.py:28] RULE_JOB_STOP_SIGNAL_FILENAME: None\u001b[0m\n",
      "\u001b[34m[2024-10-25 03:41:04.506 ip-10-0-81-47.ec2.internal:7 INFO profiler_config_parser.py:111] User has disabled profiler.\u001b[0m\n",
      "\u001b[34m[2024-10-25:03:41:04:INFO] Imported framework sagemaker_xgboost_container.training\u001b[0m\n",
      "\u001b[34m[2024-10-25:03:41:04:INFO] Failed to parse hyperparameter objective value multi:softmax to Json.\u001b[0m\n",
      "\u001b[34mReturning the value itself\u001b[0m\n",
      "\u001b[34m[2024-10-25:03:41:04:INFO] No GPUs detected (normal if no gpus installed)\u001b[0m\n",
      "\u001b[34m[2024-10-25:03:41:04:INFO] Running XGBoost Sagemaker in algorithm mode\u001b[0m\n",
      "\u001b[34m[2024-10-25:03:41:04:INFO] Determined 0 GPU(s) available on the instance.\u001b[0m\n",
      "\u001b[34m[2024-10-25:03:41:04:INFO] Determined delimiter of CSV input is ','\u001b[0m\n",
      "\u001b[34m[2024-10-25:03:41:04:INFO] Determined delimiter of CSV input is ','\u001b[0m\n",
      "\u001b[34m[2024-10-25:03:41:04:INFO] File path /opt/ml/input/data/train of input files\u001b[0m\n",
      "\u001b[34m[2024-10-25:03:41:04:INFO] Making smlinks from folder /opt/ml/input/data/train to folder /tmp/sagemaker_xgboost_input_data\u001b[0m\n",
      "\u001b[34m[2024-10-25:03:41:04:INFO] creating symlink between Path /opt/ml/input/data/train/train.csv and destination /tmp/sagemaker_xgboost_input_data/train.csv6292994442134556570\u001b[0m\n",
      "\u001b[34m[2024-10-25:03:41:04:INFO] files path: /tmp/sagemaker_xgboost_input_data\u001b[0m\n",
      "\u001b[34m[2024-10-25:03:41:04:INFO] Determined delimiter of CSV input is ','\u001b[0m\n",
      "\u001b[34m[2024-10-25:03:41:04:INFO] File path /opt/ml/input/data/validation of input files\u001b[0m\n",
      "\u001b[34m[2024-10-25:03:41:04:INFO] Making smlinks from folder /opt/ml/input/data/validation to folder /tmp/sagemaker_xgboost_input_data\u001b[0m\n",
      "\u001b[34m[2024-10-25:03:41:04:INFO] creating symlink between Path /opt/ml/input/data/validation/validation.csv and destination /tmp/sagemaker_xgboost_input_data/validation.csv7612926519176430321\u001b[0m\n",
      "\u001b[34m[2024-10-25:03:41:04:INFO] files path: /tmp/sagemaker_xgboost_input_data\u001b[0m\n",
      "\u001b[34m[2024-10-25:03:41:04:INFO] Determined delimiter of CSV input is ','\u001b[0m\n",
      "\u001b[34m[2024-10-25:03:41:04:INFO] Single node training.\u001b[0m\n",
      "\u001b[34m[2024-10-25:03:41:04:INFO] Train matrix has 798 rows and 2 columns\u001b[0m\n",
      "\u001b[34m[2024-10-25:03:41:04:INFO] Validation matrix has 201 rows\u001b[0m\n",
      "\u001b[34m[2024-10-25 03:41:04.939 ip-10-0-81-47.ec2.internal:7 INFO json_config.py:92] Creating hook from json_config at /opt/ml/input/config/debughookconfig.json.\u001b[0m\n",
      "\u001b[34m[2024-10-25 03:41:04.939 ip-10-0-81-47.ec2.internal:7 INFO hook.py:206] tensorboard_dir has not been set for the hook. SMDebug will not be exporting tensorboard summaries.\u001b[0m\n",
      "\u001b[34m[2024-10-25 03:41:04.940 ip-10-0-81-47.ec2.internal:7 INFO hook.py:259] Saving to /opt/ml/output/tensors\u001b[0m\n",
      "\u001b[34m[2024-10-25 03:41:04.940 ip-10-0-81-47.ec2.internal:7 INFO state_store.py:77] The checkpoint config file /opt/ml/input/config/checkpointconfig.json does not exist.\u001b[0m\n",
      "\u001b[34m[2024-10-25:03:41:04:INFO] Debug hook created from config\u001b[0m\n",
      "\u001b[34m[0]#011train-mlogloss:2.28678#011validation-mlogloss:2.30229\u001b[0m\n",
      "\u001b[34m[2024-10-25 03:41:04.947 ip-10-0-81-47.ec2.internal:7 INFO hook.py:427] Monitoring the collections: metrics\u001b[0m\n",
      "\u001b[34m[2024-10-25 03:41:04.949 ip-10-0-81-47.ec2.internal:7 INFO hook.py:491] Hook is writing from the hook with pid: 7\u001b[0m\n",
      "\u001b[34m[1]#011train-mlogloss:2.27607#011validation-mlogloss:2.30228\u001b[0m\n",
      "\u001b[34m[2]#011train-mlogloss:2.27148#011validation-mlogloss:2.30069\u001b[0m\n",
      "\u001b[34m[3]#011train-mlogloss:2.26809#011validation-mlogloss:2.30167\u001b[0m\n",
      "\u001b[34m[4]#011train-mlogloss:2.26660#011validation-mlogloss:2.30168\u001b[0m\n",
      "\u001b[34m[5]#011train-mlogloss:2.26042#011validation-mlogloss:2.30188\u001b[0m\n",
      "\u001b[34m[6]#011train-mlogloss:2.25443#011validation-mlogloss:2.30443\u001b[0m\n",
      "\u001b[34m[7]#011train-mlogloss:2.25199#011validation-mlogloss:2.30568\u001b[0m\n",
      "\u001b[34m[8]#011train-mlogloss:2.24982#011validation-mlogloss:2.30235\u001b[0m\n",
      "\u001b[34m[9]#011train-mlogloss:2.24848#011validation-mlogloss:2.30408\u001b[0m\n",
      "\u001b[34m[10]#011train-mlogloss:2.24743#011validation-mlogloss:2.30290\u001b[0m\n",
      "\u001b[34m[11]#011train-mlogloss:2.24415#011validation-mlogloss:2.30406\u001b[0m\n",
      "\u001b[34m[12]#011train-mlogloss:2.24329#011validation-mlogloss:2.30539\u001b[0m\n",
      "\u001b[34m[13]#011train-mlogloss:2.24152#011validation-mlogloss:2.30585\u001b[0m\n",
      "\u001b[34m[14]#011train-mlogloss:2.23431#011validation-mlogloss:2.30628\u001b[0m\n",
      "\u001b[34m[15]#011train-mlogloss:2.23291#011validation-mlogloss:2.30668\u001b[0m\n",
      "\u001b[34m[16]#011train-mlogloss:2.23110#011validation-mlogloss:2.30797\u001b[0m\n",
      "\u001b[34m[17]#011train-mlogloss:2.22883#011validation-mlogloss:2.31055\u001b[0m\n",
      "\u001b[34m[18]#011train-mlogloss:2.22559#011validation-mlogloss:2.31012\u001b[0m\n",
      "\u001b[34m[19]#011train-mlogloss:2.22566#011validation-mlogloss:2.31056\u001b[0m\n",
      "\u001b[34m[20]#011train-mlogloss:2.22570#011validation-mlogloss:2.31058\u001b[0m\n",
      "\u001b[34m[21]#011train-mlogloss:2.22559#011validation-mlogloss:2.31063\u001b[0m\n",
      "\u001b[34m[22]#011train-mlogloss:2.22004#011validation-mlogloss:2.31053\u001b[0m\n",
      "\u001b[34m[23]#011train-mlogloss:2.22002#011validation-mlogloss:2.31041\u001b[0m\n",
      "\u001b[34m[24]#011train-mlogloss:2.21736#011validation-mlogloss:2.30965\u001b[0m\n",
      "\u001b[34m[25]#011train-mlogloss:2.21645#011validation-mlogloss:2.30803\u001b[0m\n",
      "\u001b[34m[26]#011train-mlogloss:2.21503#011validation-mlogloss:2.30862\u001b[0m\n",
      "\u001b[34m[27]#011train-mlogloss:2.21506#011validation-mlogloss:2.30938\u001b[0m\n",
      "\u001b[34m[28]#011train-mlogloss:2.21504#011validation-mlogloss:2.31001\u001b[0m\n",
      "\u001b[34m[29]#011train-mlogloss:2.21293#011validation-mlogloss:2.31155\u001b[0m\n",
      "\u001b[34m[30]#011train-mlogloss:2.21182#011validation-mlogloss:2.31277\u001b[0m\n",
      "\u001b[34m[31]#011train-mlogloss:2.21167#011validation-mlogloss:2.31286\u001b[0m\n",
      "\u001b[34m[32]#011train-mlogloss:2.21163#011validation-mlogloss:2.31210\u001b[0m\n",
      "\u001b[34m[33]#011train-mlogloss:2.21165#011validation-mlogloss:2.31177\u001b[0m\n",
      "\u001b[34m[34]#011train-mlogloss:2.20993#011validation-mlogloss:2.31332\u001b[0m\n",
      "\u001b[34m[35]#011train-mlogloss:2.20992#011validation-mlogloss:2.31345\u001b[0m\n",
      "\u001b[34m[36]#011train-mlogloss:2.20693#011validation-mlogloss:2.31217\u001b[0m\n",
      "\u001b[34m[37]#011train-mlogloss:2.20697#011validation-mlogloss:2.31259\u001b[0m\n",
      "\u001b[34m[38]#011train-mlogloss:2.20704#011validation-mlogloss:2.31277\u001b[0m\n",
      "\u001b[34m[39]#011train-mlogloss:2.20133#011validation-mlogloss:2.31493\u001b[0m\n",
      "\u001b[34m[40]#011train-mlogloss:2.20030#011validation-mlogloss:2.31367\u001b[0m\n",
      "\u001b[34m[41]#011train-mlogloss:2.20032#011validation-mlogloss:2.31382\u001b[0m\n",
      "\u001b[34m[42]#011train-mlogloss:2.20034#011validation-mlogloss:2.31404\u001b[0m\n",
      "\u001b[34m[43]#011train-mlogloss:2.19824#011validation-mlogloss:2.31617\u001b[0m\n",
      "\u001b[34m[44]#011train-mlogloss:2.19629#011validation-mlogloss:2.31516\u001b[0m\n",
      "\u001b[34m[45]#011train-mlogloss:2.19285#011validation-mlogloss:2.31463\u001b[0m\n",
      "\u001b[34m[46]#011train-mlogloss:2.19010#011validation-mlogloss:2.31521\u001b[0m\n",
      "\u001b[34m[47]#011train-mlogloss:2.19009#011validation-mlogloss:2.31580\u001b[0m\n",
      "\u001b[34m[48]#011train-mlogloss:2.18919#011validation-mlogloss:2.31492\u001b[0m\n",
      "\u001b[34m[49]#011train-mlogloss:2.18679#011validation-mlogloss:2.31463\u001b[0m\n",
      "\n",
      "2024-10-25 03:41:20 Completed - Training job completed\n",
      "Training seconds: 89\n",
      "Billable seconds: 89\n"
     ]
    }
   ],
   "source": [
    "with open(\"./config.yaml\", \"r\") as config_file:\n",
    "    config = yaml.safe_load(config_file)\n",
    "\n",
    "# set an output path where the trained model will be saved\n",
    "bucket = sagemaker.Session().default_bucket()\n",
    "prefix = 'DEMO-xgboost-as-a-built-in-algo'\n",
    "\n",
    "# this line automatically looks for the XGBoost image URI and builds an XGBoost container.\n",
    "# specify the repo_version depending on your preference.\n",
    "xgboost_container = sagemaker.image_uris.retrieve(\"xgboost\", region, \"1.7-1\")\n",
    "\n",
    "# construct a SageMaker estimator that calls the xgboost-container\n",
    "estimator = sagemaker.estimator.Estimator(image_uri=xgboost_container, \n",
    "                                          hyperparameters=config['hyperparameters'],\n",
    "                                          role=sagemaker.get_execution_role(),\n",
    "                                          instance_count=config['sagemaker_config']['instance_count'], \n",
    "                                          instance_type=config['sagemaker_config']['instance_type'], \n",
    "                                          volume_size=config['sagemaker_config']['volume_size'],\n",
    "                                          output_path=config['sagemaker_config']['output_path'])\n",
    "\n",
    "content_type = \"csv\"\n",
    "# define the data type and paths to the training and validation datasets\n",
    "train_input = TrainingInput(\n",
    "    s3_data=f's3://{bucket_name}/train',  # S3 path for training data\n",
    "    content_type='csv'\n",
    ")\n",
    "validation_input = TrainingInput(\n",
    "    s3_data=f's3://{bucket_name}/validation',  # S3 path for validation data\n",
    "    content_type='csv'\n",
    ")\n",
    "\n",
    "# execute the XGBoost training job\n",
    "estimator.fit({'train': train_input, 'validation': validation_input})"
   ]
  },
  {
   "cell_type": "markdown",
   "id": "369e54ec-f463-43e4-8a7f-32c97d5dbb37",
   "metadata": {},
   "source": [
    "## Endpoint"
   ]
  },
  {
   "cell_type": "code",
   "execution_count": 86,
   "id": "d860631d-5ec9-4091-ab48-5102911f434c",
   "metadata": {},
   "outputs": [
    {
     "name": "stderr",
     "output_type": "stream",
     "text": [
      "INFO:sagemaker.image_uris:Ignoring unnecessary instance type: None.\n",
      "INFO:sagemaker:Creating model with name: sagemaker-xgboost-2024-10-25-03-48-16-520\n",
      "INFO:sagemaker:Creating endpoint-config with name sagemaker-xgboost-2024-10-25-03-48-17-285\n",
      "INFO:sagemaker:Creating endpoint with name sagemaker-xgboost-2024-10-25-03-48-17-285\n"
     ]
    },
    {
     "name": "stdout",
     "output_type": "stream",
     "text": [
      "-----------------------------------------!"
     ]
    }
   ],
   "source": [
    "model_artifact = f's3://{bucket_name}/output/sagemaker-xgboost-2024-10-25-03-39-12-308/output/model.tar.gz'\n",
    "\n",
    "xgb_model = XGBoostModel(\n",
    "    model_data=model_artifact,  # Path to the trained model artifact from the training job\n",
    "    role='real_estate_endpoint',\n",
    "    entry_point=None,           # Not needed for built-in XGBoost\n",
    "    framework_version='1.7-1',  # Version of XGBoost used in training (align with image_uri)\n",
    ")\n",
    "\n",
    "# Configure serverless inference\n",
    "serverless_config = sagemaker.serverless.ServerlessInferenceConfig(\n",
    "    memory_size_in_mb=2048,  # Memory allocated for requests\n",
    "    max_concurrency=5         # Maximum concurrent invocations\n",
    ")\n",
    "\n",
    "# Deploy the model using serverless inference\n",
    "predictor = xgb_model.deploy(\n",
    "    serverless_inference_config=serverless_config,\n",
    "    container_startup_health_check_timeout=600  # Increase timeout to 300 seconds\n",
    ")"
   ]
  },
  {
   "cell_type": "markdown",
   "id": "b99061e9-70cb-46ec-ba0a-7eb88159ac75",
   "metadata": {},
   "source": [
    "## Test Endpoint"
   ]
  },
  {
   "cell_type": "code",
   "execution_count": 88,
   "id": "1afa7728-2abf-495c-94ff-77e731fb83b5",
   "metadata": {},
   "outputs": [
    {
     "name": "stdout",
     "output_type": "stream",
     "text": [
      "Prediction result: 4.0\n",
      "\n"
     ]
    }
   ],
   "source": [
    "# Initialize a SageMaker session\n",
    "sagemaker_session = Session()\n",
    "\n",
    "# Replace with your endpoint name\n",
    "endpoint_name = 'sagemaker-xgboost-2024-10-25-03-48-17-285'\n",
    "\n",
    "# Create a Predictor object\n",
    "predictor = Predictor(endpoint_name=endpoint_name, sagemaker_session=sagemaker_session)\n",
    "\n",
    "# Set the serializer for the predictor to CSV\n",
    "predictor.serializer = CSVSerializer()\n",
    "\n",
    "# Prepare the input data as CSV\n",
    "csv_input = \"8523,384444\"\n",
    "\n",
    "# Make a prediction using CSV input\n",
    "response = predictor.predict(\n",
    "    data=csv_input,  # Send the CSV data\n",
    "    initial_args={'ContentType': 'text/csv'}  # Specify the content type as CSV\n",
    ")\n",
    "\n",
    "# Read and decode the response\n",
    "result = response.decode('utf-8')\n",
    "print(\"Prediction result:\", result)"
   ]
  }
 ],
 "metadata": {
  "kernelspec": {
   "display_name": "Python 3 (ipykernel)",
   "language": "python",
   "name": "python3"
  },
  "language_info": {
   "codemirror_mode": {
    "name": "ipython",
    "version": 3
   },
   "file_extension": ".py",
   "mimetype": "text/x-python",
   "name": "python",
   "nbconvert_exporter": "python",
   "pygments_lexer": "ipython3",
   "version": "3.11.9"
  }
 },
 "nbformat": 4,
 "nbformat_minor": 5
}
