{
 "cells": [
  {
   "cell_type": "code",
   "execution_count": 6,
   "id": "cb382366-af82-4768-b726-ea6f5d3cac33",
   "metadata": {},
   "outputs": [
    {
     "name": "stdout",
     "output_type": "stream",
     "text": [
      "Objects in bucket:\n",
      "huggingface-pytorch-training-2024-09-30-01-46-41-298/debug-output/training_job_end.ts\n",
      "huggingface-pytorch-training-2024-09-30-01-46-41-298/output/model.tar.gz\n",
      "huggingface-pytorch-training-2024-09-30-01-46-41-298/profiler-output/framework/training_job_end.ts\n",
      "huggingface-pytorch-training-2024-09-30-01-46-41-298/profiler-output/system/incremental/2024093001/1727660940.algo-1.json\n",
      "huggingface-pytorch-training-2024-09-30-01-46-41-298/profiler-output/system/incremental/2024093001/1727661000.algo-1.json\n",
      "huggingface-pytorch-training-2024-09-30-01-46-41-298/profiler-output/system/incremental/2024093001/1727661060.algo-1.json\n",
      "huggingface-pytorch-training-2024-09-30-01-46-41-298/profiler-output/system/incremental/2024093001/1727661120.algo-1.json\n",
      "huggingface-pytorch-training-2024-09-30-01-46-41-298/profiler-output/system/incremental/2024093001/1727661180.algo-1.json\n",
      "huggingface-pytorch-training-2024-09-30-01-46-41-298/profiler-output/system/incremental/2024093001/1727661240.algo-1.json\n",
      "huggingface-pytorch-training-2024-09-30-01-46-41-298/profiler-output/system/incremental/2024093001/1727661300.algo-1.json\n",
      "huggingface-pytorch-training-2024-09-30-01-46-41-298/profiler-output/system/incremental/2024093001/1727661360.algo-1.json\n",
      "huggingface-pytorch-training-2024-09-30-01-46-41-298/profiler-output/system/incremental/2024093001/1727661420.algo-1.json\n",
      "huggingface-pytorch-training-2024-09-30-01-46-41-298/profiler-output/system/incremental/2024093001/1727661480.algo-1.json\n",
      "huggingface-pytorch-training-2024-09-30-01-46-41-298/profiler-output/system/incremental/2024093001/1727661540.algo-1.json\n",
      "huggingface-pytorch-training-2024-09-30-01-46-41-298/profiler-output/system/incremental/2024093002/1727661600.algo-1.json\n",
      "huggingface-pytorch-training-2024-09-30-01-46-41-298/profiler-output/system/incremental/2024093002/1727661660.algo-1.json\n",
      "huggingface-pytorch-training-2024-09-30-01-46-41-298/profiler-output/system/incremental/2024093002/1727661720.algo-1.json\n",
      "huggingface-pytorch-training-2024-09-30-01-46-41-298/profiler-output/system/incremental/2024093002/1727661780.algo-1.json\n",
      "huggingface-pytorch-training-2024-09-30-01-46-41-298/profiler-output/system/incremental/2024093002/1727661840.algo-1.json\n",
      "huggingface-pytorch-training-2024-09-30-01-46-41-298/profiler-output/system/incremental/2024093002/1727661900.algo-1.json\n",
      "huggingface-pytorch-training-2024-09-30-01-46-41-298/profiler-output/system/incremental/2024093002/1727661960.algo-1.json\n",
      "huggingface-pytorch-training-2024-09-30-01-46-41-298/profiler-output/system/training_job_end.ts\n",
      "huggingface-pytorch-training-2024-09-30-01-46-41-298/source/sourcedir.tar.gz\n",
      "sagemaker-xgboost-2024-10-10-05-23-09-664/sourcedir.tar.gz\n",
      "sagemaker-xgboost-2024-10-10-05-24-18-462/sourcedir.tar.gz\n",
      "sagemaker-xgboost-2024-10-10-05-25-48-604/sourcedir.tar.gz\n",
      "sagemaker-xgboost-2024-10-10-05-26-55-059/sourcedir.tar.gz\n",
      "sagemaker-xgboost-2024-10-11-04-17-48-945/sourcedir.tar.gz\n",
      "sagemaker-xgboost-2024-10-11-04-18-55-698/sourcedir.tar.gz\n",
      "sagemaker-xgboost-2024-10-11-04-28-18-731/sourcedir.tar.gz\n",
      "sagemaker-xgboost-2024-10-18-03-26-40-819/sourcedir.tar.gz\n",
      "sagemaker-xgboost-2024-10-20-20-48-58-898/sourcedir.tar.gz\n",
      "sagemaker-xgboost-2024-10-20-21-01-02-472/sourcedir.tar.gz\n",
      "sagemaker-xgboost-2024-10-20-21-06-47-466/sourcedir.tar.gz\n",
      "sagemaker-xgboost-2024-10-20-21-07-25-898/sourcedir.tar.gz\n",
      "sagemaker-xgboost-2024-10-20-21-17-35-616/sourcedir.tar.gz\n",
      "sagemaker-xgboost-2024-10-21-00-53-39-142/sourcedir.tar.gz\n",
      "sagemaker-xgboost-2024-10-21-01-06-40-090/sourcedir.tar.gz\n",
      "sagemaker-xgboost-2024-10-21-01-19-44-599/sourcedir.tar.gz\n",
      "train_dataset.csv\n",
      "train_dataset_yelp.csv\n",
      "xgb_model.json\n",
      "xgb_model_new.tar.gz\n",
      "xgboost_model.tar.gz\n"
     ]
    }
   ],
   "source": [
    "# Step 1: Import the necessary libraries\n",
    "import boto3\n",
    "\n",
    "# Step 2: Create an S3 client\n",
    "s3_client = boto3.client('s3')\n",
    "\n",
    "# Step 3: Define your S3 bucket name\n",
    "bucket_name = 'sagemaker-us-east-1-025066244931'  # Replace with your S3 bucket name\n",
    "\n",
    "# Step 4: List objects in your S3 bucket\n",
    "def list_objects_in_bucket(bucket_name):\n",
    "    try:\n",
    "        response = s3_client.list_objects_v2(Bucket=bucket_name)\n",
    "        print(\"Objects in bucket:\")\n",
    "        for obj in response.get('Contents', []):\n",
    "            print(obj['Key'])\n",
    "    except Exception as e:\n",
    "        print(f\"Error listing objects in bucket: {e}\")\n",
    "\n",
    "# Call the function to list objects\n",
    "list_objects_in_bucket(bucket_name)\n",
    "\n"
   ]
  },
  {
   "cell_type": "code",
   "execution_count": 11,
   "id": "f64ccb4d-4e1d-4102-8dc4-eb402cc3abba",
   "metadata": {},
   "outputs": [
    {
     "name": "stdout",
     "output_type": "stream",
     "text": [
      "Successfully uploaded xgboost_model.tar.gz to sagemaker-us-east-1-025066244931/xgboost_model.tar.gz\n"
     ]
    }
   ],
   "source": [
    "# Step 5: Upload a file to your S3 bucket\n",
    "def upload_file_to_s3(local_file, s3_file):\n",
    "    try:\n",
    "        s3_client.upload_file(local_file, bucket_name, s3_file)\n",
    "        print(f\"Successfully uploaded {local_file} to {bucket_name}/{s3_file}\")\n",
    "    except Exception as e:\n",
    "        print(f\"Error uploading file: {e}\")\n",
    "\n",
    "# Example: Upload a local file\n",
    "local_file = 'xgboost_model.tar.gz'  # Replace with the path to your local file\n",
    "s3_file = 'xgboost_model.tar.gz'  # Replace with the desired name in S3\n",
    "upload_file_to_s3(local_file, s3_file)"
   ]
  },
  {
   "cell_type": "code",
   "execution_count": 12,
   "id": "b1d32d42-f0b7-4bbb-96dd-7cb2cda921d8",
   "metadata": {},
   "outputs": [
    {
     "name": "stdout",
     "output_type": "stream",
     "text": [
      "Successfully downloaded xgboost_model.tar.gz from sagemaker-us-east-1-025066244931 to xgboost_model_new.tar.gz\n"
     ]
    }
   ],
   "source": [
    "# Step 6: Download a file from your S3 bucket\n",
    "def download_file_from_s3(s3_file, local_file):\n",
    "    try:\n",
    "        s3_client.download_file(bucket_name, s3_file, local_file)\n",
    "        print(f\"Successfully downloaded {s3_file} from {bucket_name} to {local_file}\")\n",
    "    except Exception as e:\n",
    "        print(f\"Error downloading file: {e}\")\n",
    "\n",
    "# Example: Download a file from S3\n",
    "s3_file_to_download = 'xgboost_model.tar.gz'  # Replace with the name of your file in S3\n",
    "local_file_to_save = 'xgboost_model_new.tar.gz'  # Replace with the desired local file name\n",
    "download_file_from_s3(s3_file_to_download, local_file_to_save)\n"
   ]
  }
 ],
 "metadata": {
  "kernelspec": {
   "display_name": "Python 3 (ipykernel)",
   "language": "python",
   "name": "python3"
  },
  "language_info": {
   "codemirror_mode": {
    "name": "ipython",
    "version": 3
   },
   "file_extension": ".py",
   "mimetype": "text/x-python",
   "name": "python",
   "nbconvert_exporter": "python",
   "pygments_lexer": "ipython3",
   "version": "3.11.9"
  }
 },
 "nbformat": 4,
 "nbformat_minor": 5
}
