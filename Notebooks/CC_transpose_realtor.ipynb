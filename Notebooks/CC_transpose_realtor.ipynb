{
 "cells": [
  {
   "cell_type": "code",
   "execution_count": 3,
   "metadata": {},
   "outputs": [],
   "source": [
    "import pandas as pd\n",
    "import matplotlib.pyplot as plt\n",
    "import seaborn as sns"
   ]
  },
  {
   "cell_type": "code",
   "execution_count": 80,
   "metadata": {},
   "outputs": [
    {
     "name": "stderr",
     "output_type": "stream",
     "text": [
      "/var/folders/sp/_mjrzq3j7cx5cnmtdrl_njsr0000gn/T/ipykernel_14507/3659207639.py:5: DtypeWarning: Columns (0) have mixed types. Specify dtype option on import or set low_memory=False.\n",
      "  realtor = pd.read_csv(\"../Data/realtor/realtor_zip_monthly_historical.csv\")\n"
     ]
    },
    {
     "name": "stdout",
     "output_type": "stream",
     "text": [
      "    ZIP  SOLDPRICE  SQFT  BEDS  BATHS  AGE  DOM      lat     long  zip_cluster\n",
      "0  2474   410000.0  1368     2    2.0    3  897  42.4202 -71.1565       2474.0\n",
      "1  2124   327000.0  1850     2    2.5    5  658  42.2918 -71.0717       2124.0\n",
      "2  2184   331000.0  1469     2    1.0   38  467  42.2093 -70.9963       2184.0\n",
      "3  1949   580000.0  2945     2    2.5    4  565  42.5942 -71.0130       1949.0\n",
      "4  2139  1000000.0  2536     3    2.5    3   56  42.3647 -71.1042       2139.0\n",
      "  month_date_yyyymm  postal_code            zip_name  median_listing_price  \\\n",
      "0            202408      32343.0          midway, fl              304950.0   \n",
      "1            202408      62896.0  west frankfort, il              125000.0   \n",
      "2            202408      56477.0          sebeka, mn              302400.0   \n",
      "3            202408      25315.0      charleston, wv               65000.0   \n",
      "4            202408      76454.0          gorman, tx              184500.0   \n",
      "\n",
      "   median_listing_price_mm  median_listing_price_yy  active_listing_count  \\\n",
      "0                   0.0168                  -0.1028                  14.0   \n",
      "1                   0.3999                   0.6955                  29.0   \n",
      "2                  -0.1186                  -0.1919                  13.0   \n",
      "3                  -0.1613                   0.1017                   5.0   \n",
      "4                  -0.0027                   0.1535                   3.0   \n",
      "\n",
      "   active_listing_count_mm  active_listing_count_yy  median_days_on_market  \\\n",
      "0                  -0.2632                  -0.1250                   74.0   \n",
      "1                   0.0943                  -0.0333                   62.0   \n",
      "2                   0.6250                  -0.1875                   51.0   \n",
      "3                   0.2500                  -0.2308                   36.0   \n",
      "4                  -0.5000                  -0.4545                   46.0   \n",
      "\n",
      "   ...  average_listing_price  average_listing_price_mm  \\\n",
      "0  ...               316505.0                    0.0254   \n",
      "1  ...               128365.0                    0.1748   \n",
      "2  ...               290570.0                    0.0048   \n",
      "3  ...               100600.0                    0.1795   \n",
      "4  ...               489750.0                    0.3737   \n",
      "\n",
      "   average_listing_price_yy  total_listing_count  total_listing_count_mm  \\\n",
      "0                   -0.0129                 20.0                  0.0526   \n",
      "1                    0.4221                 47.0                 -0.0309   \n",
      "2                   -0.1862                 17.0                  0.7000   \n",
      "3                    0.7891                  6.0                 -0.2941   \n",
      "4                    0.0619                  8.0                 -0.0588   \n",
      "\n",
      "   total_listing_count_yy  pending_ratio  pending_ratio_mm  pending_ratio_yy  \\\n",
      "0                  0.2500         0.3571            0.3045               NaN   \n",
      "1                 -0.0874         0.6552           -0.1939           -0.0615   \n",
      "2                 -0.1500         0.4615            0.2115            0.2115   \n",
      "3                 -0.3333         0.4000           -0.8500            0.0154   \n",
      "4                 -0.0588         1.3333            0.8333            0.7879   \n",
      "\n",
      "   quality_flag  \n",
      "0           1.0  \n",
      "1           1.0  \n",
      "2           1.0  \n",
      "3           0.0  \n",
      "4           1.0  \n",
      "\n",
      "[5 rows x 40 columns]\n"
     ]
    }
   ],
   "source": [
    "# import the CC data\n",
    "CC = pd.read_csv(\"../Data/CC_cleaned.csv\")\n",
    "\n",
    "# now realtor data\n",
    "realtor = pd.read_csv(\"../Data/realtor/realtor_zip_monthly_historical.csv\")\n",
    "\n",
    "# print head\n",
    "print(CC.head())\n",
    "\n",
    "# print head\n",
    "print(realtor.head())\n",
    "\n"
   ]
  },
  {
   "cell_type": "code",
   "execution_count": 81,
   "metadata": {},
   "outputs": [
    {
     "name": "stdout",
     "output_type": "stream",
     "text": [
      "    month_date_yyyymm  postal_code       zip_name  median_listing_price  \\\n",
      "68             202408       2330.0     carver, ma              684999.0   \n",
      "308            202408       2332.0    duxbury, ma             1669500.0   \n",
      "320            202408       1983.0  topsfield, ma              949950.0   \n",
      "322            202408       2199.0     boston, ma             2992500.0   \n",
      "399            202408       1876.0  tewksbury, ma              702000.0   \n",
      "\n",
      "     median_listing_price_mm  median_listing_price_yy  active_listing_count  \\\n",
      "68                   -0.0028                   0.1687                  11.0   \n",
      "308                   0.0771                   0.0600                  21.0   \n",
      "320                  -0.0318                  -0.0316                  10.0   \n",
      "322                   0.0008                  -0.2443                   8.0   \n",
      "399                   0.0801                   0.2028                  17.0   \n",
      "\n",
      "     active_listing_count_mm  active_listing_count_yy  median_days_on_market  \\\n",
      "68                   -0.0833                   0.0000                   63.0   \n",
      "308                  -0.0870                  -0.3333                   44.0   \n",
      "320                  -0.0909                   0.1765                   63.0   \n",
      "322                   0.1429                  -0.4286                   68.0   \n",
      "399                  -0.1905                   0.5455                   22.0   \n",
      "\n",
      "     ...  average_listing_price  average_listing_price_mm  \\\n",
      "68   ...               664423.0                    0.0135   \n",
      "308  ...              4492668.0                    0.6184   \n",
      "320  ...              1382904.0                   -0.0252   \n",
      "322  ...              9920250.0                    0.6727   \n",
      "399  ...               665331.0                   -0.0431   \n",
      "\n",
      "     average_listing_price_yy  total_listing_count  total_listing_count_mm  \\\n",
      "68                     0.1505                 18.0                  0.0909   \n",
      "308                    0.8299                 26.0                 -0.1875   \n",
      "320                    0.0199                 13.0                 -0.1333   \n",
      "322                    0.2624                  8.0                  0.1429   \n",
      "399                    0.0803                 28.0                 -0.0175   \n",
      "\n",
      "     total_listing_count_yy  pending_ratio  pending_ratio_mm  \\\n",
      "68                   0.2000         0.4545            0.0795   \n",
      "308                 -0.2778         0.2381           -0.1097   \n",
      "320                  0.4444         0.3000            0.0273   \n",
      "322                 -0.4483            NaN               NaN   \n",
      "399                  0.7500         0.5294            0.1008   \n",
      "\n",
      "     pending_ratio_yy  quality_flag  \n",
      "68             0.1364           0.0  \n",
      "308            0.1270           0.0  \n",
      "320            0.1824           0.0  \n",
      "322               NaN           1.0  \n",
      "399            0.0749           1.0  \n",
      "\n",
      "[5 rows x 40 columns]\n"
     ]
    }
   ],
   "source": [
    "# filter the realtor data to just the zip codes in the CC data\n",
    "realtor = realtor[realtor['postal_code'].isin(CC['ZIP'])]\n",
    "\n",
    "# print head\n",
    "print(realtor.head())\n",
    "\n"
   ]
  },
  {
   "cell_type": "code",
   "execution_count": 82,
   "metadata": {},
   "outputs": [
    {
     "name": "stdout",
     "output_type": "stream",
     "text": [
      "359\n",
      "367\n"
     ]
    }
   ],
   "source": [
    "# count unique zip codes\n",
    "print(realtor['postal_code'].nunique())\n",
    "\n",
    "# count unique zip codes\n",
    "print(CC['ZIP'].nunique())\n",
    "\n",
    "\n"
   ]
  },
  {
   "cell_type": "code",
   "execution_count": 83,
   "metadata": {},
   "outputs": [
    {
     "name": "stdout",
     "output_type": "stream",
     "text": [
      "    month_date_yyyymm  postal_code       zip_name  median_listing_price  \\\n",
      "68             202408       2330.0     carver, ma              684999.0   \n",
      "308            202408       2332.0    duxbury, ma             1669500.0   \n",
      "320            202408       1983.0  topsfield, ma              949950.0   \n",
      "322            202408       2199.0     boston, ma             2992500.0   \n",
      "399            202408       1876.0  tewksbury, ma              702000.0   \n",
      "\n",
      "     median_listing_price_mm  median_listing_price_yy  active_listing_count  \\\n",
      "68                   -0.0028                   0.1687                  11.0   \n",
      "308                   0.0771                   0.0600                  21.0   \n",
      "320                  -0.0318                  -0.0316                  10.0   \n",
      "322                   0.0008                  -0.2443                   8.0   \n",
      "399                   0.0801                   0.2028                  17.0   \n",
      "\n",
      "     active_listing_count_mm  active_listing_count_yy  median_days_on_market  \\\n",
      "68                   -0.0833                   0.0000                   63.0   \n",
      "308                  -0.0870                  -0.3333                   44.0   \n",
      "320                  -0.0909                   0.1765                   63.0   \n",
      "322                   0.1429                  -0.4286                   68.0   \n",
      "399                  -0.1905                   0.5455                   22.0   \n",
      "\n",
      "     ...  average_listing_price  average_listing_price_mm  \\\n",
      "68   ...               664423.0                    0.0135   \n",
      "308  ...              4492668.0                    0.6184   \n",
      "320  ...              1382904.0                   -0.0252   \n",
      "322  ...              9920250.0                    0.6727   \n",
      "399  ...               665331.0                   -0.0431   \n",
      "\n",
      "     average_listing_price_yy  total_listing_count  total_listing_count_mm  \\\n",
      "68                     0.1505                 18.0                  0.0909   \n",
      "308                    0.8299                 26.0                 -0.1875   \n",
      "320                    0.0199                 13.0                 -0.1333   \n",
      "322                    0.2624                  8.0                  0.1429   \n",
      "399                    0.0803                 28.0                 -0.0175   \n",
      "\n",
      "     total_listing_count_yy  pending_ratio  pending_ratio_mm  \\\n",
      "68                   0.2000         0.4545            0.0795   \n",
      "308                 -0.2778         0.2381           -0.1097   \n",
      "320                  0.4444         0.3000            0.0273   \n",
      "322                 -0.4483            NaN               NaN   \n",
      "399                  0.7500         0.5294            0.1008   \n",
      "\n",
      "     pending_ratio_yy  quality_flag  \n",
      "68             0.1364           0.0  \n",
      "308            0.1270           0.0  \n",
      "320            0.1824           0.0  \n",
      "322               NaN           1.0  \n",
      "399            0.0749           1.0  \n",
      "\n",
      "[5 rows x 40 columns]\n"
     ]
    }
   ],
   "source": [
    "# filter to rows where month_date_yyyymm is 202408 or 201706\n",
    "realtor = realtor[realtor['month_date_yyyymm'].isin([202408, 201706])]\n",
    "\n",
    "\n",
    "# print head\n",
    "print(realtor.head())\n",
    "\n",
    "\n",
    "\n"
   ]
  },
  {
   "cell_type": "code",
   "execution_count": 84,
   "metadata": {},
   "outputs": [
    {
     "name": "stdout",
     "output_type": "stream",
     "text": [
      "   postal_code  202408_price  201706_price  price_multiplier\n",
      "0       1083.0      274365.0      474850.0          0.577793\n",
      "1       1331.0      220216.0      470785.0          0.467763\n",
      "2       1373.0      341204.0      533957.0          0.639010\n",
      "3       1420.0      208032.0      451581.0          0.460675\n",
      "4       1430.0      298611.0      538866.0          0.554147\n",
      "   postal_code  202408_days  201706_days  days_on_market_multiplier\n",
      "0       1083.0         68.0         22.0                   3.090909\n",
      "1       1331.0         51.0         27.0                   1.888889\n",
      "2       1373.0         67.0         26.0                   2.576923\n",
      "3       1420.0         37.0         39.0                   0.948718\n",
      "4       1430.0         78.0         54.0                   1.444444\n"
     ]
    }
   ],
   "source": [
    "# we want two dataframes, one with the average_listing_price and one with the median_days_on_market. each row should be a postal_code\n",
    "# listing price df, with one row per postal_code and 202408 and 201706 as new columns, with the average_listing_price as the value\n",
    "# First, let's handle duplicate entries by taking the mean of duplicate values\n",
    "price_df = realtor.groupby(['postal_code', 'month_date_yyyymm'])['average_listing_price'].mean().unstack()\n",
    "# rename date columns to have _price suffix\n",
    "price_df.columns = [str(col) + '_price' for col in [202408, 201706]]\n",
    "\n",
    "\n",
    "# Rename columns for clarity\n",
    "price_df.columns.name = None\n",
    "price_df = price_df.reset_index()\n",
    "# make new column for the price multiplier\n",
    "price_df['price_multiplier'] = price_df['202408_price'] / price_df['201706_price']\n",
    "\n",
    "# do same for median_days_on_market\n",
    "days_df = realtor.groupby(['postal_code', 'month_date_yyyymm'])['median_days_on_market'].mean().unstack()\n",
    "# rename date columns to have _days suffix\n",
    "days_df.columns = [str(col) + '_days' for col in [202408, 201706]]\n",
    "days_df.columns.name = None\n",
    "days_df = days_df.reset_index()\n",
    "# make new column for the days_on_market multiplier\n",
    "days_df['days_on_market_multiplier'] = days_df['202408_days'] / days_df['201706_days']\n",
    "\n",
    "# get head of days_df\n",
    "print(price_df.head())\n",
    "\n",
    "# get head\n",
    "print(days_df.head())\n",
    "\n",
    "\n",
    "\n",
    "\n",
    "\n",
    "\n",
    "\n",
    "\n",
    "\n",
    "\n",
    "\n",
    "\n",
    "\n",
    "\n",
    "\n"
   ]
  },
  {
   "cell_type": "code",
   "execution_count": 85,
   "metadata": {},
   "outputs": [
    {
     "name": "stdout",
     "output_type": "stream",
     "text": [
      "    ZIP  SOLDPRICE  SQFT  BEDS  BATHS  AGE  DOM      lat     long  \\\n",
      "0  2474   410000.0  1368     2    2.0    3  897  42.4202 -71.1565   \n",
      "1  2124   327000.0  1850     2    2.5    5  658  42.2918 -71.0717   \n",
      "2  2184   331000.0  1469     2    1.0   38  467  42.2093 -70.9963   \n",
      "3  1949   580000.0  2945     2    2.5    4  565  42.5942 -71.0130   \n",
      "4  2139  1000000.0  2536     3    2.5    3   56  42.3647 -71.1042   \n",
      "\n",
      "   zip_cluster  price_multiplier  days_on_market_multiplier  \n",
      "0       2474.0          0.492502                   0.352941  \n",
      "1       2124.0          0.753723                   1.320000  \n",
      "2       2184.0          0.660431                   0.435897  \n",
      "3       1949.0          0.621947                   1.500000  \n",
      "4       2139.0          0.662793                   0.240741  \n"
     ]
    }
   ],
   "source": [
    "# add the multipliers to the CC dataframe based on ZIP by merging on CC[ZIP] to realtor postal_code\n",
    "CC = CC.merge(price_df[['postal_code', 'price_multiplier']], left_on='ZIP', right_on='postal_code', how='left')\n",
    "CC = CC.merge(days_df[['postal_code', 'days_on_market_multiplier']], left_on='ZIP', right_on='postal_code', how='left')\n",
    "\n",
    "# only add the multipliers from price_df and days_df, and all the previous columns from CC\n",
    "# ZIP, SOLD_PRICE, SQFT, BEDS, BATHS, AGE, DOM, lat, long, zip_cluster, price_multiplier, days_on_market_multiplier\n",
    "CC = CC[['ZIP', 'SOLDPRICE', 'SQFT', 'BEDS', 'BATHS', 'AGE', 'DOM', 'lat', 'long', 'zip_cluster', 'price_multiplier', 'days_on_market_multiplier']]\n",
    "\n",
    "# get head\n",
    "print(CC.head())\n",
    "\n",
    "\n",
    "\n",
    "\n",
    "\n",
    "\n",
    "\n",
    "\n",
    "\n",
    "\n",
    "\n",
    "\n",
    "\n",
    "\n",
    "\n",
    "\n",
    "\n"
   ]
  },
  {
   "cell_type": "code",
   "execution_count": 86,
   "metadata": {},
   "outputs": [
    {
     "name": "stdout",
     "output_type": "stream",
     "text": [
      "    ZIP  SOLDPRICE  SQFT  BEDS  BATHS  AGE  DOM      lat     long  \\\n",
      "0  2474   410000.0  1368     2    2.0    3  897  42.4202 -71.1565   \n",
      "1  2124   327000.0  1850     2    2.5    5  658  42.2918 -71.0717   \n",
      "2  2184   331000.0  1469     2    1.0   38  467  42.2093 -70.9963   \n",
      "3  1949   580000.0  2945     2    2.5    4  565  42.5942 -71.0130   \n",
      "4  2139  1000000.0  2536     3    2.5    3   56  42.3647 -71.1042   \n",
      "\n",
      "   zip_cluster  price_multiplier  days_on_market_multiplier  \n",
      "0       2474.0          0.492502                   0.352941  \n",
      "1       2124.0          0.753723                   1.320000  \n",
      "2       2184.0          0.660431                   0.435897  \n",
      "3       1949.0          0.621947                   1.500000  \n",
      "4       2139.0          0.662793                   0.240741  \n"
     ]
    }
   ],
   "source": [
    "# impute mean for the price_multiplier and days_on_market_multiplier\n",
    "CC['price_multiplier'] = CC['price_multiplier'].fillna(CC['price_multiplier'].mean())\n",
    "CC['days_on_market_multiplier'] = CC['days_on_market_multiplier'].fillna(CC['days_on_market_multiplier'].mean())\n",
    "\n",
    "# get head\n",
    "print(CC.head())\n",
    "\n",
    "\n",
    "\n"
   ]
  },
  {
   "cell_type": "code",
   "execution_count": 87,
   "metadata": {},
   "outputs": [
    {
     "name": "stdout",
     "output_type": "stream",
     "text": [
      "    ZIP  SOLDPRICE  SQFT  BEDS  BATHS  AGE  DOM      lat     long  \\\n",
      "0  2474   410000.0  1368     2    2.0    3  897  42.4202 -71.1565   \n",
      "1  2124   327000.0  1850     2    2.5    5  658  42.2918 -71.0717   \n",
      "2  2184   331000.0  1469     2    1.0   38  467  42.2093 -70.9963   \n",
      "3  1949   580000.0  2945     2    2.5    4  565  42.5942 -71.0130   \n",
      "4  2139  1000000.0  2536     3    2.5    3   56  42.3647 -71.1042   \n",
      "\n",
      "   zip_cluster  price_multiplier  days_on_market_multiplier  \\\n",
      "0       2474.0          0.492502                   0.352941   \n",
      "1       2124.0          0.753723                   1.320000   \n",
      "2       2184.0          0.660431                   0.435897   \n",
      "3       1949.0          0.621947                   1.500000   \n",
      "4       2139.0          0.662793                   0.240741   \n",
      "\n",
      "   adjusted_sold_price  adjusted_dom  \n",
      "0        201925.858031    316.588235  \n",
      "1        246467.513766    868.560000  \n",
      "2        218602.614649    203.564103  \n",
      "3        360729.317692    847.500000  \n",
      "4        662792.730048     13.481481  \n"
     ]
    }
   ],
   "source": [
    "# create a new column for adjusted_sold_price and adjusted_dom\n",
    "CC['adjusted_sold_price'] = CC['SOLDPRICE'] * CC['price_multiplier']\n",
    "CC['adjusted_dom'] = CC['DOM'] * CC['days_on_market_multiplier']\n",
    "\n",
    "# get head\n",
    "print(CC.head())\n",
    "\n",
    "\n",
    "\n",
    "\n"
   ]
  },
  {
   "cell_type": "code",
   "execution_count": 88,
   "metadata": {},
   "outputs": [],
   "source": [
    "# write to csv\n",
    "CC.to_csv(\"../Data/CC_realtor_merged_cleaned_adjusted.csv\", index=False)"
   ]
  },
  {
   "cell_type": "code",
   "execution_count": 4,
   "metadata": {},
   "outputs": [
    {
     "ename": "NameError",
     "evalue": "name 'realtor' is not defined",
     "output_type": "error",
     "traceback": [
      "\u001b[0;31m---------------------------------------------------------------------------\u001b[0m",
      "\u001b[0;31mNameError\u001b[0m                                 Traceback (most recent call last)",
      "Cell \u001b[0;32mIn[4], line 3\u001b[0m\n\u001b[1;32m      1\u001b[0m \u001b[38;5;66;03m# show DOM over time for the entire dataset\u001b[39;00m\n\u001b[1;32m      2\u001b[0m plt\u001b[38;5;241m.\u001b[39mfigure(figsize\u001b[38;5;241m=\u001b[39m(\u001b[38;5;241m10\u001b[39m, \u001b[38;5;241m6\u001b[39m))\n\u001b[0;32m----> 3\u001b[0m sns\u001b[38;5;241m.\u001b[39mlineplot(x\u001b[38;5;241m=\u001b[39m\u001b[38;5;124m'\u001b[39m\u001b[38;5;124mmonth_date_yyyymm\u001b[39m\u001b[38;5;124m'\u001b[39m, y\u001b[38;5;241m=\u001b[39m\u001b[38;5;124m'\u001b[39m\u001b[38;5;124madjusted_dom\u001b[39m\u001b[38;5;124m'\u001b[39m, data\u001b[38;5;241m=\u001b[39mrealtor)\n\u001b[1;32m      4\u001b[0m plt\u001b[38;5;241m.\u001b[39mtitle(\u001b[38;5;124m'\u001b[39m\u001b[38;5;124mMedian Days on Market over Time\u001b[39m\u001b[38;5;124m'\u001b[39m)\n\u001b[1;32m      5\u001b[0m plt\u001b[38;5;241m.\u001b[39mxlabel(\u001b[38;5;124m'\u001b[39m\u001b[38;5;124mMonth\u001b[39m\u001b[38;5;124m'\u001b[39m)\n",
      "\u001b[0;31mNameError\u001b[0m: name 'realtor' is not defined"
     ]
    },
    {
     "data": {
      "text/plain": [
       "<Figure size 1000x600 with 0 Axes>"
      ]
     },
     "metadata": {},
     "output_type": "display_data"
    }
   ],
   "source": [
    "# show DOM over time for the entire dataset\n",
    "plt.figure(figsize=(10, 6))\n",
    "sns.lineplot(x='month_date_yyyymm', y='adjusted_dom', data=realtor)\n",
    "plt.title('Median Days on Market over Time')\n",
    "plt.xlabel('Month')\n",
    "plt.ylabel('Median Days on Market')\n",
    "plt.show()"
   ]
  }
 ],
 "metadata": {
  "kernelspec": {
   "display_name": "base",
   "language": "python",
   "name": "python3"
  },
  "language_info": {
   "codemirror_mode": {
    "name": "ipython",
    "version": 3
   },
   "file_extension": ".py",
   "mimetype": "text/x-python",
   "name": "python",
   "nbconvert_exporter": "python",
   "pygments_lexer": "ipython3",
   "version": "3.11.7"
  }
 },
 "nbformat": 4,
 "nbformat_minor": 2
}
