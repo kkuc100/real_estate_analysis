{
 "cells": [
  {
   "cell_type": "markdown",
   "metadata": {},
   "source": [
    "#### Imports"
   ]
  },
  {
   "cell_type": "code",
   "execution_count": 98,
   "metadata": {},
   "outputs": [],
   "source": [
    "from sklearn.pipeline import Pipeline\n",
    "from sklearn.impute import SimpleImputer\n",
    "from sklearn.preprocessing import StandardScaler, OneHotEncoder\n",
    "from sklearn.compose import ColumnTransformer\n",
    "from sklearn.model_selection import train_test_split\n",
    "# Import the mean_absolute_error function\n",
    "from sklearn.metrics import mean_absolute_error\n",
    "\n",
    "# Calculate the MSE\n",
    "\n",
    "import pandas as pd\n",
    "\n",
    "# print working directory\n",
    "import os\n",
    "\n",
    "from sklearn.linear_model import LinearRegression\n",
    "from sklearn.metrics import mean_absolute_error, mean_squared_error, r2_score\n",
    "import numpy as np"
   ]
  },
  {
   "cell_type": "code",
   "execution_count": 5,
   "metadata": {},
   "outputs": [
    {
     "name": "stdout",
     "output_type": "stream",
     "text": [
      "/Users/bermo/github/capstone/real_estate_analysis/Notebooks\n",
      "   RegionID  SizeRank       RegionName RegionType StateName  2008-02-29  \\\n",
      "0    102001         0    United States    country       NaN    200263.0   \n",
      "1    394913         1     New York, NY        msa        NY      8416.0   \n",
      "2    753899         2  Los Angeles, CA        msa        CA      4141.0   \n",
      "3    394463         3      Chicago, IL        msa        IL      5570.0   \n",
      "4    394514         4       Dallas, TX        msa        TX      4875.0   \n",
      "\n",
      "   2008-03-31  2008-04-30  2008-05-31  2008-06-30  ...  2023-11-30  \\\n",
      "0    231896.0    257463.0    283461.0    296547.0  ...    258258.0   \n",
      "1      8883.0      9809.0     10081.0     10685.0  ...     11143.0   \n",
      "2      5044.0      6065.0      6868.0      7222.0  ...      5119.0   \n",
      "3      6908.0      7230.0      7931.0      8781.0  ...      7022.0   \n",
      "4      5519.0      5988.0      6679.0      6672.0  ...      4625.0   \n",
      "\n",
      "   2023-12-31  2024-01-31  2024-02-29  2024-03-31  2024-04-30  2024-05-31  \\\n",
      "0    246648.0    211949.0    234310.0    282773.0    318615.0    350767.0   \n",
      "1     10675.0     10345.0      8916.0     10063.0     10993.0     12208.0   \n",
      "2      4974.0      4401.0      4980.0      6101.0      6714.0      7119.0   \n",
      "3      7129.0      5512.0      5765.0      7661.0      9277.0     10195.0   \n",
      "4      4706.0      4207.0      5137.0      6144.0      6969.0      7458.0   \n",
      "\n",
      "   2024-06-30  2024-07-31  2024-08-31  \n",
      "0    326229.0    340368.0    332735.0  \n",
      "1     12446.0     13878.0     14512.0  \n",
      "2      6380.0      7027.0      7315.0  \n",
      "3      9768.0     10487.0     10850.0  \n",
      "4      6465.0      6758.0      6677.0  \n",
      "\n",
      "[5 rows x 204 columns]\n"
     ]
    }
   ],
   "source": [
    "\n",
    "print(os.getcwd())\n",
    "# Load the CSV file\n",
    "file_path = '../Data/Metro_sales_count_now_uc_sfrcondo_month.csv'\n",
    "df = pd.read_csv(file_path)\n",
    "\n",
    "# Print the first 5 rows\n",
    "print(df.head())\n"
   ]
  },
  {
   "cell_type": "code",
   "execution_count": 40,
   "metadata": {},
   "outputs": [
    {
     "name": "stderr",
     "output_type": "stream",
     "text": [
      "/var/folders/sp/_mjrzq3j7cx5cnmtdrl_njsr0000gn/T/ipykernel_97905/3801920293.py:3: DtypeWarning: Columns (0) have mixed types. Specify dtype option on import or set low_memory=False.\n",
      "  df_realtor = pd.read_csv(file_path)\n"
     ]
    },
    {
     "name": "stdout",
     "output_type": "stream",
     "text": [
      "  month_date_yyyymm  postal_code            zip_name  median_listing_price  \\\n",
      "0            202408      32343.0          midway, fl              304950.0   \n",
      "1            202408      62896.0  west frankfort, il              125000.0   \n",
      "2            202408      56477.0          sebeka, mn              302400.0   \n",
      "3            202408      25315.0      charleston, wv               65000.0   \n",
      "4            202408      76454.0          gorman, tx              184500.0   \n",
      "\n",
      "   median_listing_price_mm  median_listing_price_yy  active_listing_count  \\\n",
      "0                   0.0168                  -0.1028                  14.0   \n",
      "1                   0.3999                   0.6955                  29.0   \n",
      "2                  -0.1186                  -0.1919                  13.0   \n",
      "3                  -0.1613                   0.1017                   5.0   \n",
      "4                  -0.0027                   0.1535                   3.0   \n",
      "\n",
      "   active_listing_count_mm  active_listing_count_yy  median_days_on_market  \\\n",
      "0                  -0.2632                  -0.1250                   74.0   \n",
      "1                   0.0943                  -0.0333                   62.0   \n",
      "2                   0.6250                  -0.1875                   51.0   \n",
      "3                   0.2500                  -0.2308                   36.0   \n",
      "4                  -0.5000                  -0.4545                   46.0   \n",
      "\n",
      "   ...  average_listing_price  average_listing_price_mm  \\\n",
      "0  ...               316505.0                    0.0254   \n",
      "1  ...               128365.0                    0.1748   \n",
      "2  ...               290570.0                    0.0048   \n",
      "3  ...               100600.0                    0.1795   \n",
      "4  ...               489750.0                    0.3737   \n",
      "\n",
      "   average_listing_price_yy  total_listing_count  total_listing_count_mm  \\\n",
      "0                   -0.0129                 20.0                  0.0526   \n",
      "1                    0.4221                 47.0                 -0.0309   \n",
      "2                   -0.1862                 17.0                  0.7000   \n",
      "3                    0.7891                  6.0                 -0.2941   \n",
      "4                    0.0619                  8.0                 -0.0588   \n",
      "\n",
      "   total_listing_count_yy  pending_ratio  pending_ratio_mm  pending_ratio_yy  \\\n",
      "0                  0.2500         0.3571            0.3045               NaN   \n",
      "1                 -0.0874         0.6552           -0.1939           -0.0615   \n",
      "2                 -0.1500         0.4615            0.2115            0.2115   \n",
      "3                 -0.3333         0.4000           -0.8500            0.0154   \n",
      "4                 -0.0588         1.3333            0.8333            0.7879   \n",
      "\n",
      "   quality_flag  \n",
      "0           1.0  \n",
      "1           1.0  \n",
      "2           1.0  \n",
      "3           0.0  \n",
      "4           1.0  \n",
      "\n",
      "[5 rows x 40 columns]\n",
      "(2853387, 40)\n"
     ]
    }
   ],
   "source": [
    "# read in realtor zip code data\n",
    "file_path = '../Data/realtor_zip_monthly_historical.csv'\n",
    "df_realtor = pd.read_csv(file_path)\n",
    "\n",
    "# print the first 5 rows\n",
    "print(df_realtor.head())\n",
    "\n",
    "# print the shape\n",
    "print(df_realtor.shape)\n"
   ]
  },
  {
   "cell_type": "code",
   "execution_count": 11,
   "metadata": {},
   "outputs": [
    {
     "name": "stdout",
     "output_type": "stream",
     "text": [
      "Index(['month_date_yyyymm', 'postal_code', 'zip_name', 'median_listing_price',\n",
      "       'median_listing_price_mm', 'median_listing_price_yy',\n",
      "       'active_listing_count', 'active_listing_count_mm',\n",
      "       'active_listing_count_yy', 'median_days_on_market',\n",
      "       'median_days_on_market_mm', 'median_days_on_market_yy',\n",
      "       'new_listing_count', 'new_listing_count_mm', 'new_listing_count_yy',\n",
      "       'price_increased_count', 'price_increased_count_mm',\n",
      "       'price_increased_count_yy', 'price_reduced_count',\n",
      "       'price_reduced_count_mm', 'price_reduced_count_yy',\n",
      "       'pending_listing_count', 'pending_listing_count_mm',\n",
      "       'pending_listing_count_yy', 'median_listing_price_per_square_foot',\n",
      "       'median_listing_price_per_square_foot_mm',\n",
      "       'median_listing_price_per_square_foot_yy', 'median_square_feet',\n",
      "       'median_square_feet_mm', 'median_square_feet_yy',\n",
      "       'average_listing_price', 'average_listing_price_mm',\n",
      "       'average_listing_price_yy', 'total_listing_count',\n",
      "       'total_listing_count_mm', 'total_listing_count_yy', 'pending_ratio',\n",
      "       'pending_ratio_mm', 'pending_ratio_yy', 'quality_flag'],\n",
      "      dtype='object')\n",
      "Index(['month_date_yyyymm', 'postal_code', 'zip_name', 'median_listing_price',\n",
      "       'median_listing_price_mm', 'median_listing_price_yy',\n",
      "       'active_listing_count', 'active_listing_count_mm',\n",
      "       'active_listing_count_yy', 'median_days_on_market',\n",
      "       'median_days_on_market_mm', 'median_days_on_market_yy',\n",
      "       'new_listing_count', 'new_listing_count_mm', 'new_listing_count_yy',\n",
      "       'price_increased_count', 'price_increased_count_mm',\n",
      "       'price_increased_count_yy', 'price_reduced_count',\n",
      "       'price_reduced_count_mm', 'price_reduced_count_yy',\n",
      "       'pending_listing_count', 'pending_listing_count_mm',\n",
      "       'pending_listing_count_yy', 'median_listing_price_per_square_foot',\n",
      "       'median_listing_price_per_square_foot_mm',\n",
      "       'median_listing_price_per_square_foot_yy', 'median_square_feet',\n",
      "       'median_square_feet_mm', 'median_square_feet_yy',\n",
      "       'average_listing_price', 'average_listing_price_mm',\n",
      "       'average_listing_price_yy', 'total_listing_count',\n",
      "       'total_listing_count_mm', 'total_listing_count_yy', 'pending_ratio',\n",
      "       'pending_ratio_mm', 'pending_ratio_yy', 'quality_flag'],\n",
      "      dtype='object')\n",
      "Index(['month_date_yyyymm', 'postal_code', 'zip_name', 'median_listing_price',\n",
      "       'median_listing_price_mm', 'median_listing_price_yy',\n",
      "       'active_listing_count', 'active_listing_count_mm',\n",
      "       'active_listing_count_yy', 'median_days_on_market',\n",
      "       'median_days_on_market_mm', 'median_days_on_market_yy',\n",
      "       'new_listing_count', 'new_listing_count_mm', 'new_listing_count_yy',\n",
      "       'price_increased_count', 'price_increased_count_mm',\n",
      "       'price_increased_count_yy', 'price_reduced_count',\n",
      "       'price_reduced_count_mm', 'price_reduced_count_yy',\n",
      "       'pending_listing_count', 'pending_listing_count_mm',\n",
      "       'pending_listing_count_yy', 'median_listing_price_per_square_foot',\n",
      "       'median_listing_price_per_square_foot_mm',\n",
      "       'median_listing_price_per_square_foot_yy', 'median_square_feet',\n",
      "       'median_square_feet_mm', 'median_square_feet_yy',\n",
      "       'average_listing_price', 'average_listing_price_mm',\n",
      "       'average_listing_price_yy', 'total_listing_count',\n",
      "       'total_listing_count_mm', 'total_listing_count_yy', 'pending_ratio',\n",
      "       'pending_ratio_mm', 'pending_ratio_yy', 'quality_flag'],\n",
      "      dtype='object')\n"
     ]
    }
   ],
   "source": [
    "# list out all the columns\n",
    "print(df_realtor.columns)\n",
    "\n",
    "# list out all the columns\n",
    "print(df_realtor.columns)\n",
    "\n",
    "# list out all the columns\n",
    "print(df_realtor.columns)\n",
    "\n"
   ]
  },
  {
   "cell_type": "code",
   "execution_count": 41,
   "metadata": {},
   "outputs": [
    {
     "name": "stdout",
     "output_type": "stream",
     "text": [
      "quality_flag\n",
      "1.0    1384727\n",
      "0.0    1117903\n",
      "Name: count, dtype: int64\n"
     ]
    }
   ],
   "source": [
    "# get count of unique values of quality_flag\n",
    "print(df_realtor['quality_flag'].value_counts())\n"
   ]
  },
  {
   "cell_type": "markdown",
   "metadata": {},
   "source": [
    "## MODELING"
   ]
  },
  {
   "cell_type": "markdown",
   "metadata": {},
   "source": [
    "#### Drop columns"
   ]
  },
  {
   "cell_type": "code",
   "execution_count": 61,
   "metadata": {},
   "outputs": [],
   "source": [
    "# List of columns to drop based on assumptions about redundancy or lack of utility for prediction\n",
    "columns_to_drop = [\n",
    "    'postal_code', 'zip_name', 'quality_flag'\n",
    "]\n",
    "\n",
    "# Drop the columns from the DataFrame\n",
    "df_cleaned = df_realtor.drop(columns=columns_to_drop)"
   ]
  },
  {
   "cell_type": "code",
   "execution_count": 90,
   "metadata": {},
   "outputs": [
    {
     "name": "stdout",
     "output_type": "stream",
     "text": [
      "month_date_yyyymm\n",
      "202108    42663\n",
      "202009    41025\n",
      "202008    39786\n",
      "201910    39576\n",
      "201810    38115\n",
      "          ...  \n",
      "202103    26564\n",
      "202203    26553\n",
      "202102    26522\n",
      "202202    26342\n",
      "201607     2550\n",
      "Name: count, Length: 99, dtype: int64\n"
     ]
    }
   ],
   "source": [
    "    # Drop rows with NaN values in 'month_date_yyyymm'\n",
    "df_cleaned = df_cleaned.dropna(subset=['month_date_yyyymm'])\n",
    "\n",
    "# drop rows with NaN values in the median_days_on_market\n",
    "df_cleaned = df_cleaned.dropna(subset=['median_days_on_market'])\n",
    "\n",
    "# remove rows where month_date_yyyymm is \"quality_flag = 1:  year-over-year figures may be impacted\n",
    "df_cleaned = df_cleaned[df_cleaned['month_date_yyyymm'] != 'quality_flag = 1:  year-over-year figures may be impacted']\n",
    "# print the counts of all the unique values in month_date_yyyymm\n",
    "print(df_cleaned['month_date_yyyymm'].value_counts())\n",
    "\n"
   ]
  },
  {
   "cell_type": "markdown",
   "metadata": {},
   "source": [
    "#### Separate Categorical and Numerical Columns\n",
    "\n",
    "postal_code and zip_name are categorical features, but since we are predicting aggregated data at the ZIP code level, we drop these.All other columns are numerical, including percentage change columns."
   ]
  },
  {
   "cell_type": "code",
   "execution_count": 91,
   "metadata": {},
   "outputs": [],
   "source": [
    "# Define numerical columns (drop the target column 'median_days_on_market')\n",
    "numerical_columns = [col for col in df_cleaned.columns if col not in ['median_days_on_market']]"
   ]
  },
  {
   "cell_type": "markdown",
   "metadata": {},
   "source": [
    "#### Define Preprocessing Pipelines"
   ]
  },
  {
   "cell_type": "code",
   "execution_count": 92,
   "metadata": {},
   "outputs": [],
   "source": [
    "# Pipeline for numerical features: handles missing values and scales data\n",
    "numerical_pipeline = Pipeline([\n",
    "    ('imputer', SimpleImputer(strategy='mean')),  # Fill missing values with mean\n",
    "    ('scaler', StandardScaler())  # Standardize numerical features\n",
    "])\n",
    "\n",
    "# Combine pipelines for numerical columns\n",
    "preprocessor = ColumnTransformer([\n",
    "    ('num', numerical_pipeline, numerical_columns)\n",
    "])"
   ]
  },
  {
   "cell_type": "markdown",
   "metadata": {},
   "source": [
    "#### Create Train and Test Set"
   ]
  },
  {
   "cell_type": "code",
   "execution_count": 93,
   "metadata": {},
   "outputs": [
    {
     "name": "stdout",
     "output_type": "stream",
     "text": [
      "        month_date_yyyymm  median_listing_price  median_listing_price_mm  \\\n",
      "356814             202308              185000.0                   0.0000   \n",
      "1572240            202002              169700.0                   0.0000   \n",
      "2838298            201607              287000.0                      NaN   \n",
      "1186400            202102              168450.0                   0.0060   \n",
      "1498231            202004               91225.0                   0.0732   \n",
      "\n",
      "         median_listing_price_yy  active_listing_count  \\\n",
      "356814                   -0.0508                   1.0   \n",
      "1572240                   2.7711                   1.0   \n",
      "2838298                      NaN                  18.0   \n",
      "1186400                   0.1139                   1.0   \n",
      "1498231                   0.7376                   4.0   \n",
      "\n",
      "         active_listing_count_mm  active_listing_count_yy  \\\n",
      "356814                      0.00                    -0.50   \n",
      "1572240                     0.00                     0.00   \n",
      "2838298                      NaN                      NaN   \n",
      "1186400                    -0.75                    -0.75   \n",
      "1498231                    -0.30                     0.00   \n",
      "\n",
      "         median_days_on_market_mm  median_days_on_market_yy  \\\n",
      "356814                     0.1994                    2.6268   \n",
      "1572240                    0.1542                   -0.2702   \n",
      "2838298                       NaN                       NaN   \n",
      "1186400                    0.3284                    1.2675   \n",
      "1498231                    0.3434                    0.1982   \n",
      "\n",
      "         new_listing_count  ...  median_square_feet_yy  average_listing_price  \\\n",
      "356814                 0.0  ...                -0.2314               185000.0   \n",
      "1572240                0.0  ...                 4.3160               169700.0   \n",
      "2838298                0.0  ...                    NaN               293494.0   \n",
      "1186400                2.0  ...                 0.5332               168450.0   \n",
      "1498231                0.0  ...                 0.7698                76429.0   \n",
      "\n",
      "         average_listing_price_mm  average_listing_price_yy  \\\n",
      "356814                     0.0000                   -0.0508   \n",
      "1572240                    0.0000                    2.7711   \n",
      "2838298                       NaN                       NaN   \n",
      "1186400                    0.0060                    0.1459   \n",
      "1498231                   -0.0246                    0.1542   \n",
      "\n",
      "         total_listing_count  total_listing_count_mm  total_listing_count_yy  \\\n",
      "356814                   1.0                  0.0000                 -0.5000   \n",
      "1572240                  1.0                  0.0000                  0.0000   \n",
      "2838298                 18.0                     NaN                     NaN   \n",
      "1186400                  7.0                 -0.0714                 -0.2778   \n",
      "1498231                  7.0                  0.0833                  0.6250   \n",
      "\n",
      "         pending_ratio  pending_ratio_mm  pending_ratio_yy  \n",
      "356814             NaN               NaN               NaN  \n",
      "1572240            NaN               NaN               NaN  \n",
      "2838298            NaN               NaN               NaN  \n",
      "1186400        12.0000            9.5000            8.0000  \n",
      "1498231         0.8571            0.6571            0.5714  \n",
      "\n",
      "[5 rows x 36 columns]\n"
     ]
    }
   ],
   "source": [
    "# Define features (X) and target (y)\n",
    "X = df_cleaned.drop(columns=['median_days_on_market'])  # Features matrix\n",
    "y = df_cleaned['median_days_on_market']  # Target variable\n",
    "\n",
    "# Split the data into training and test sets (80% train, 20% test)\n",
    "X_train, X_test, y_train, y_test = train_test_split(X, y, test_size=0.2, random_state=42)\n",
    "\n",
    "\n",
    "print(X_test.head())\n",
    "\n"
   ]
  },
  {
   "cell_type": "markdown",
   "metadata": {},
   "source": [
    "#### Preprocessing"
   ]
  },
  {
   "cell_type": "code",
   "execution_count": 94,
   "metadata": {},
   "outputs": [
    {
     "name": "stdout",
     "output_type": "stream",
     "text": [
      "         0         1             2             3         4             5   \\\n",
      "0 -1.676364 -0.190553 -3.020467e-18  1.106673e-18 -0.526032 -1.022253e-17   \n",
      "1  1.249785  0.190059 -6.012560e-03 -6.008202e-03 -0.057721 -3.727604e-01   \n",
      "2  0.807068 -0.006724 -6.101943e-03 -6.086513e-03 -0.387273 -6.232082e-01   \n",
      "3 -1.292676 -0.072421 -3.020467e-18  1.106673e-18  0.046348 -1.022253e-17   \n",
      "4  1.237136 -0.367720 -6.407557e-03 -6.122056e-03 -0.421963  1.753983e+00   \n",
      "\n",
      "             6             7             8         9   ...            26  \\\n",
      "0  1.702948e-17 -1.136905e-16  2.484970e-17 -0.592997  ... -7.725606e-18   \n",
      "1 -2.784798e-02 -1.234424e-01  8.490754e-02 -0.338043  ... -3.630853e-03   \n",
      "2 -6.590699e-01 -1.946566e-01  2.536978e-02 -0.423027  ... -1.431927e-02   \n",
      "3  1.702948e-17 -1.136905e-16  2.484970e-17 -0.423027  ... -7.725606e-18   \n",
      "4  1.841153e+00 -1.253735e-01  2.394148e-01 -0.423027  ... -1.022761e-02   \n",
      "\n",
      "         27            28            29        30            31            32  \\\n",
      "0 -0.245833  2.048775e-18 -3.302041e-18 -0.571837 -6.892710e-17  7.226764e-17   \n",
      "1  0.182264 -5.782254e-03 -5.852882e-03 -0.117912 -6.439049e-03 -1.157369e-01   \n",
      "2  0.070527 -5.811665e-03 -5.786923e-03 -0.319656 -6.282725e-01 -4.927550e-01   \n",
      "3  0.260019  2.048775e-18 -3.302041e-18 -0.067476 -6.892710e-17  7.226764e-17   \n",
      "4 -0.200315 -5.948395e-03 -5.408764e-03 -0.496183  8.948552e-01 -1.335723e-01   \n",
      "\n",
      "             33            34            35  \n",
      "0  7.008346e-16 -2.851709e-17 -3.439608e-17  \n",
      "1 -5.920371e-01  2.076675e-01 -1.896572e-01  \n",
      "2  7.079708e-01  8.784560e-02  4.251344e-01  \n",
      "3 -6.597078e-01 -2.851709e-17 -3.439608e-17  \n",
      "4  7.008346e-16 -2.851709e-17 -3.439608e-17  \n",
      "\n",
      "[5 rows x 36 columns]\n"
     ]
    }
   ],
   "source": [
    "# Fit the preprocessing pipeline to the training data\n",
    "X_train_preprocessed = preprocessor.fit_transform(X_train)\n",
    "\n",
    "# Transform the test set using the fitted pipeline\n",
    "X_test_preprocessed = preprocessor.transform(X_test)\n",
    "\n",
    "# head of the preprocessed data\n",
    "print(pd.DataFrame(X_train_preprocessed).head())"
   ]
  },
  {
   "cell_type": "markdown",
   "metadata": {},
   "source": [
    "### Modeling"
   ]
  },
  {
   "cell_type": "code",
   "execution_count": 95,
   "metadata": {},
   "outputs": [
    {
     "name": "stdout",
     "output_type": "stream",
     "text": [
      "0\n",
      "0.0\n",
      "0.0\n"
     ]
    }
   ],
   "source": [
    "# how many NaNs are in the training labels\n",
    "print(y_train.isna().sum())\n",
    "\n",
    "# percentage of NaNs in the training labels\n",
    "print(y_train.isna().sum() / len(y_train) * 100)\n",
    "\n",
    "# percentage of NaNs in the test labels\n",
    "print(y_test.isna().sum() / len(y_test) * 100)\n",
    "\n",
    "# Initialize the Linear Regression model"
   ]
  },
  {
   "cell_type": "code",
   "execution_count": 100,
   "metadata": {},
   "outputs": [
    {
     "name": "stdout",
     "output_type": "stream",
     "text": [
      "MAE: 32.36845423487267\n",
      "MSE: 2225.85716059081\n",
      "R2: 0.22261650727141724\n"
     ]
    }
   ],
   "source": [
    "# Initialize the Linear Regression model\n",
    "linear_model = LinearRegression()\n",
    "\n",
    "# Fit the model using the preprocessed training data\n",
    "linear_model.fit(X_train_preprocessed, y_train)\n",
    "\n",
    "# Predict on the test set\n",
    "y_pred = linear_model.predict(X_test_preprocessed)\n",
    "\n",
    "# Calculate the MAE\n",
    "mae = mean_absolute_error(y_test, y_pred)\n",
    "\n",
    "# Calculate the MSE\n",
    "mse = mean_squared_error(y_test, y_pred)\n",
    "\n",
    "# print the MAE and MSE\n",
    "print(f\"MAE: {mae}\")\n",
    "print(f\"MSE: {mse}\")\n",
    "\n",
    "# print the R2 score\n",
    "r2 = r2_score(y_test, y_pred)\n",
    "print(f\"R2: {r2}\")\n",
    "\n"
   ]
  }
 ],
 "metadata": {
  "kernelspec": {
   "display_name": "Python 3",
   "language": "python",
   "name": "python3"
  },
  "language_info": {
   "codemirror_mode": {
    "name": "ipython",
    "version": 3
   },
   "file_extension": ".py",
   "mimetype": "text/x-python",
   "name": "python",
   "nbconvert_exporter": "python",
   "pygments_lexer": "ipython3",
   "version": "3.11.7"
  }
 },
 "nbformat": 4,
 "nbformat_minor": 2
}
