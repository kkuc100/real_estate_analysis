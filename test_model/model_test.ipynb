{
 "cells": [
  {
   "cell_type": "code",
   "execution_count": 1,
   "metadata": {},
   "outputs": [],
   "source": [
    "import pandas as pd\n",
    "import numpy as np"
   ]
  },
  {
   "cell_type": "code",
   "execution_count": 2,
   "metadata": {},
   "outputs": [],
   "source": [
    "df = pd.read_csv(\"../Data/test_data.csv\")"
   ]
  },
  {
   "cell_type": "code",
   "execution_count": 5,
   "metadata": {},
   "outputs": [],
   "source": [
    "df = df[[\"postal_code\",\"median_listing_price\",\"percentile_label\"]]"
   ]
  },
  {
   "cell_type": "code",
   "execution_count": 7,
   "metadata": {},
   "outputs": [
    {
     "data": {
      "text/html": [
       "<div>\n",
       "<style scoped>\n",
       "    .dataframe tbody tr th:only-of-type {\n",
       "        vertical-align: middle;\n",
       "    }\n",
       "\n",
       "    .dataframe tbody tr th {\n",
       "        vertical-align: top;\n",
       "    }\n",
       "\n",
       "    .dataframe thead th {\n",
       "        text-align: right;\n",
       "    }\n",
       "</style>\n",
       "<table border=\"1\" class=\"dataframe\">\n",
       "  <thead>\n",
       "    <tr style=\"text-align: right;\">\n",
       "      <th></th>\n",
       "      <th>postal_code</th>\n",
       "      <th>median_listing_price</th>\n",
       "      <th>percentile_label</th>\n",
       "    </tr>\n",
       "  </thead>\n",
       "  <tbody>\n",
       "    <tr>\n",
       "      <th>0</th>\n",
       "      <td>22306.0</td>\n",
       "      <td>677220.0</td>\n",
       "      <td>3</td>\n",
       "    </tr>\n",
       "    <tr>\n",
       "      <th>1</th>\n",
       "      <td>36376.0</td>\n",
       "      <td>73000.0</td>\n",
       "      <td>10</td>\n",
       "    </tr>\n",
       "    <tr>\n",
       "      <th>2</th>\n",
       "      <td>97304.0</td>\n",
       "      <td>389825.0</td>\n",
       "      <td>10</td>\n",
       "    </tr>\n",
       "    <tr>\n",
       "      <th>3</th>\n",
       "      <td>48419.0</td>\n",
       "      <td>146225.0</td>\n",
       "      <td>3</td>\n",
       "    </tr>\n",
       "    <tr>\n",
       "      <th>4</th>\n",
       "      <td>26362.0</td>\n",
       "      <td>268250.0</td>\n",
       "      <td>5</td>\n",
       "    </tr>\n",
       "    <tr>\n",
       "      <th>...</th>\n",
       "      <td>...</td>\n",
       "      <td>...</td>\n",
       "      <td>...</td>\n",
       "    </tr>\n",
       "    <tr>\n",
       "      <th>995</th>\n",
       "      <td>63124.0</td>\n",
       "      <td>996175.0</td>\n",
       "      <td>3</td>\n",
       "    </tr>\n",
       "    <tr>\n",
       "      <th>996</th>\n",
       "      <td>44049.0</td>\n",
       "      <td>187450.0</td>\n",
       "      <td>6</td>\n",
       "    </tr>\n",
       "    <tr>\n",
       "      <th>997</th>\n",
       "      <td>85248.0</td>\n",
       "      <td>445700.0</td>\n",
       "      <td>2</td>\n",
       "    </tr>\n",
       "    <tr>\n",
       "      <th>998</th>\n",
       "      <td>79381.0</td>\n",
       "      <td>416950.0</td>\n",
       "      <td>9</td>\n",
       "    </tr>\n",
       "    <tr>\n",
       "      <th>999</th>\n",
       "      <td>92344.0</td>\n",
       "      <td>519900.0</td>\n",
       "      <td>1</td>\n",
       "    </tr>\n",
       "  </tbody>\n",
       "</table>\n",
       "<p>1000 rows × 3 columns</p>\n",
       "</div>"
      ],
      "text/plain": [
       "     postal_code  median_listing_price  percentile_label\n",
       "0        22306.0              677220.0                 3\n",
       "1        36376.0               73000.0                10\n",
       "2        97304.0              389825.0                10\n",
       "3        48419.0              146225.0                 3\n",
       "4        26362.0              268250.0                 5\n",
       "..           ...                   ...               ...\n",
       "995      63124.0              996175.0                 3\n",
       "996      44049.0              187450.0                 6\n",
       "997      85248.0              445700.0                 2\n",
       "998      79381.0              416950.0                 9\n",
       "999      92344.0              519900.0                 1\n",
       "\n",
       "[1000 rows x 3 columns]"
      ]
     },
     "execution_count": 7,
     "metadata": {},
     "output_type": "execute_result"
    }
   ],
   "source": [
    "df.dropna()"
   ]
  },
  {
   "cell_type": "code",
   "execution_count": 11,
   "metadata": {},
   "outputs": [
    {
     "name": "stderr",
     "output_type": "stream",
     "text": [
      "/var/folders/qp/4_04bw_d6l53qkwhjjqw331c0000gn/T/ipykernel_66692/2775262156.py:2: SettingWithCopyWarning: \n",
      "A value is trying to be set on a copy of a slice from a DataFrame.\n",
      "Try using .loc[row_indexer,col_indexer] = value instead\n",
      "\n",
      "See the caveats in the documentation: https://pandas.pydata.org/pandas-docs/stable/user_guide/indexing.html#returning-a-view-versus-a-copy\n",
      "  df['percentile_label'] = df['percentile_label'] - 1\n"
     ]
    },
    {
     "data": {
      "text/plain": [
       "percentile_label\n",
       "4    120\n",
       "7    111\n",
       "8    105\n",
       "1    103\n",
       "2    102\n",
       "0    102\n",
       "6     93\n",
       "9     92\n",
       "5     87\n",
       "3     85\n",
       "Name: count, dtype: int64"
      ]
     },
     "execution_count": 11,
     "metadata": {},
     "output_type": "execute_result"
    }
   ],
   "source": [
    "df['percentile_label'].value_counts()\n",
    "df['percentile_label'] = df['percentile_label'] - 1\n",
    "df['percentile_label'].value_counts()"
   ]
  },
  {
   "cell_type": "code",
   "execution_count": 13,
   "metadata": {},
   "outputs": [],
   "source": [
    "df.to_csv('../Data/test_model_data.csv', index=False)"
   ]
  },
  {
   "cell_type": "code",
   "execution_count": 1,
   "metadata": {},
   "outputs": [
    {
     "name": "stdout",
     "output_type": "stream",
     "text": [
      "./\n",
      "    xgb_model.json\n",
      "    config.yaml\n",
      "    README.md\n",
      "    .gitattributes\n",
      "    test.ipynb\n",
      "    scripts/\n",
      "        utils.py\n",
      "        train.py\n",
      "        __pycache__/\n",
      "            utils.cpython-311.pyc\n",
      "    .git/\n",
      "        ORIG_HEAD\n",
      "        config\n",
      "        HEAD\n",
      "        description\n",
      "        index\n",
      "        packed-refs\n",
      "        COMMIT_EDITMSG\n",
      "        FETCH_HEAD\n",
      "        objects/\n",
      "            f3/\n",
      "                2e0c9def8db508d47b9a69ad8afa865e93adda\n",
      "            pack/\n",
      "                pack-f799770289df689481f86a1baa4d15b945852462.pack\n",
      "                pack-f799770289df689481f86a1baa4d15b945852462.idx\n",
      "            info/\n",
      "            62/\n",
      "                c3a8d08109cd8e73fa8cb32b542e56fe717f9a\n",
      "            aa/\n",
      "                b638c253e0c25c650866085292d51f3724af46\n",
      "            ff/\n",
      "                6f203cc0b554c23d132b5c8073389564fd1085\n",
      "        info/\n",
      "            exclude\n",
      "        logs/\n",
      "            HEAD\n",
      "            refs/\n",
      "                heads/\n",
      "                    main\n",
      "                remotes/\n",
      "                    origin/\n",
      "                        HEAD\n",
      "        hooks/\n",
      "            commit-msg.sample\n",
      "            pre-rebase.sample\n",
      "            pre-commit.sample\n",
      "            applypatch-msg.sample\n",
      "            fsmonitor-watchman.sample\n",
      "            pre-receive.sample\n",
      "            prepare-commit-msg.sample\n",
      "            post-update.sample\n",
      "            pre-merge-commit.sample\n",
      "            pre-applypatch.sample\n",
      "            pre-push.sample\n",
      "            update.sample\n",
      "            push-to-checkout.sample\n",
      "        refs/\n",
      "            heads/\n",
      "                main\n",
      "            tags/\n",
      "            remotes/\n",
      "                origin/\n",
      "                    HEAD\n",
      "    data/\n",
      "        realtor_zip_monthly_current.csv\n",
      "        realtor.csv\n",
      "        clean.ipynb\n",
      "        real_estate_data.csv\n"
     ]
    }
   ],
   "source": [
    "import os\n",
    "\n",
    "def print_directory_structure(root_dir):\n",
    "    for dirpath, dirnames, filenames in os.walk(root_dir):\n",
    "        level = dirpath.replace(root_dir, '').count(os.sep)  # Count the directory level\n",
    "        indent = ' ' * 4 * (level)  # Create indentation based on level\n",
    "        print(f\"{indent}{os.path.basename(dirpath)}/\")  # Print directory name\n",
    "        for filename in filenames:\n",
    "            print(f\"{indent}    {filename}\")  # Print file name\n",
    "\n",
    "# Specify the root directory you want to print\n",
    "root_directory = '.'  # Use '.' for the current directory\n",
    "print_directory_structure(root_directory)\n"
   ]
  },
  {
   "cell_type": "code",
   "execution_count": 4,
   "metadata": {},
   "outputs": [
    {
     "name": "stdout",
     "output_type": "stream",
     "text": [
      "x xgb_model.json\n",
      "x inference.py\n",
      "x config.yaml\n"
     ]
    }
   ],
   "source": [
    "!tar -xzvf xgboost_model.tar.gz"
   ]
  }
 ],
 "metadata": {
  "kernelspec": {
   "display_name": "myenv",
   "language": "python",
   "name": "python3"
  },
  "language_info": {
   "codemirror_mode": {
    "name": "ipython",
    "version": 3
   },
   "file_extension": ".py",
   "mimetype": "text/x-python",
   "name": "python",
   "nbconvert_exporter": "python",
   "pygments_lexer": "ipython3",
   "version": "3.11.4"
  }
 },
 "nbformat": 4,
 "nbformat_minor": 2
}
